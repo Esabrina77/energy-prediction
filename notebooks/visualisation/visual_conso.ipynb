{
 "cells": [
  {
   "cell_type": "markdown",
   "metadata": {},
   "source": [
    "## VISUALISATION"
   ]
  },
  {
   "cell_type": "markdown",
   "metadata": {},
   "source": [
    "##### LES IMPORTS"
   ]
  },
  {
   "cell_type": "code",
   "execution_count": null,
   "metadata": {},
   "outputs": [],
   "source": [
    "import os\n",
    "os.chdir('/workspaces/projet-iadata')  # Change le répertoire vers la racine\n",
    "print(os.getcwd())  # Vérif"
   ]
  },
  {
   "cell_type": "code",
   "execution_count": null,
   "metadata": {},
   "outputs": [],
   "source": [
    "import pandas as pd\n",
    "import matplotlib.pyplot as plt\n",
    "from matplotlib.dates import DateFormatter"
   ]
  },
  {
   "cell_type": "code",
   "execution_count": null,
   "metadata": {},
   "outputs": [],
   "source": [
    "#IMPOrt du fichier clean\n",
    "conso= pd.read_csv('./data/prepared/conso_clean.csv')\n",
    "print(conso.head())#verif du contentu"
   ]
  },
  {
   "cell_type": "code",
   "execution_count": null,
   "metadata": {},
   "outputs": [],
   "source": [
    "#FORMATER LA DATE\n",
    "conso['DateHeure'] = pd.to_datetime(conso['DateHeure'])\n",
    "\n",
    "\n",
    "print(conso[['ConsommationGazTotale', 'ConsommationElectricite', 'ConsommationTotale']])"
   ]
  },
  {
   "cell_type": "markdown",
   "metadata": {},
   "source": [
    "#### COURBE"
   ]
  },
  {
   "cell_type": "code",
   "execution_count": null,
   "metadata": {},
   "outputs": [],
   "source": [
    "#courbe de conso\n",
    "plt.figure(figsize=(12,6))\n",
    "plt.plot(conso['DateHeure'], conso['ConsommationTotale'],label='Consommation Totale')\n",
    "\n",
    "plt.xlabel('Date&Heure')\n",
    "plt.ylabel('Consommation Totale (MW)')\n",
    "plt.title('Evolution de consommation Totale')\n",
    "plt.legend()\n",
    "plt.grid()\n",
    "plt.show()\n"
   ]
  },
  {
   "cell_type": "code",
   "execution_count": null,
   "metadata": {},
   "outputs": [],
   "source": [
    "plt.figure(figsize=(12, 6))\n",
    "plt.plot(conso['DateHeure'], conso['ConsommationGazTotale'], label='Consommation Gaz', alpha=0.7)\n",
    "plt.plot(conso['DateHeure'], conso['ConsommationElectricite'], label='Consommation Électricité', alpha=0.7)\n",
    "plt.xlabel('DateHeure')\n",
    "plt.ylabel('Consommation (MW)')\n",
    "plt.title('Consommation Gaz vs Électricité')\n",
    "plt.legend()\n",
    "plt.grid()\n",
    "plt.show()"
   ]
  },
  {
   "cell_type": "code",
   "execution_count": null,
   "metadata": {},
   "outputs": [],
   "source": []
  }
 ],
 "metadata": {
  "kernelspec": {
   "display_name": "Python 3",
   "language": "python",
   "name": "python3"
  },
  "language_info": {
   "codemirror_mode": {
    "name": "ipython",
    "version": 3
   },
   "file_extension": ".py",
   "mimetype": "text/x-python",
   "name": "python",
   "nbconvert_exporter": "python",
   "pygments_lexer": "ipython3",
   "version": "3.12.1"
  }
 },
 "nbformat": 4,
 "nbformat_minor": 2
}
