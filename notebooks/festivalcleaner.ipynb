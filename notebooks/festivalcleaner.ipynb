{
 "cells": [
  {
   "cell_type": "code",
   "execution_count": 4,
   "metadata": {},
   "outputs": [
    {
     "name": "stdout",
     "output_type": "stream",
     "text": [
      "Codespaces fonctionne !\n"
     ]
    }
   ],
   "source": [
    "import pandas as pd\n",
    "print(\"Codespaces fonctionne !\")"
   ]
  },
  {
   "cell_type": "code",
   "execution_count": 5,
   "metadata": {},
   "outputs": [
    {
     "name": "stdout",
     "output_type": "stream",
     "text": [
      "/workspaces/projet-iadata\n"
     ]
    }
   ],
   "source": [
    "import os\n",
    "os.chdir('/workspaces/projet-iadata')  # Change le répertoire vers la racine\n",
    "print(os.getcwd()) \n"
   ]
  },
  {
   "cell_type": "markdown",
   "metadata": {},
   "source": [
    "## NETTOYAGE DE DONNEES"
   ]
  },
  {
   "cell_type": "markdown",
   "metadata": {},
   "source": [
    "### VERIFIER LES SEPARATEURS"
   ]
  },
  {
   "cell_type": "code",
   "execution_count": 12,
   "metadata": {},
   "outputs": [
    {
     "name": "stdout",
     "output_type": "stream",
     "text": [
      "                             ﻿Nom du festival Envergure territoriale  \\\n",
      "0                        Les Nuits (Re)Belles                    NaN   \n",
      "1                               Y'a pas l'feu              Régionale   \n",
      "2                 Festival du jeune art russe                    NaN   \n",
      "3      Festival de musique de Cordes-sur-Ciel                    NaN   \n",
      "4  Les rencontres de la cinémathèque montagne                    NaN   \n",
      "\n",
      "  Région principale de déroulement Département principal de déroulement  \\\n",
      "0          Bourgogne-Franche-Comté                                 Jura   \n",
      "1                  Hauts-de-France                        Pas-de-Calais   \n",
      "2       Provence-Alpes-Côte d'Azur                      Alpes-Maritimes   \n",
      "3                        Occitanie                                 Tarn   \n",
      "4       Provence-Alpes-Côte d'Azur                         Hautes-Alpes   \n",
      "\n",
      "  Commune principale de déroulement  \\\n",
      "0                          Brainans   \n",
      "1                           Cambrin   \n",
      "2                            Cannes   \n",
      "3                   Cordes-sur-Ciel   \n",
      "4                               Gap   \n",
      "\n",
      "  Code postal (de la commune principale de déroulement) Code Insee commune  \\\n",
      "0                                              39800                 39073   \n",
      "1                                              62149                 62200   \n",
      "2                                               6414                  6004   \n",
      "3                                              81170                 81069   \n",
      "4                                               5000                  5061   \n",
      "\n",
      "  Code Insee EPCI                              Libellé EPCI Numéro de voie  \\\n",
      "0       200071595  CC Arbois, Poligny, Salins, Cœur du Jura            NaN   \n",
      "1       200072460    CA de Béthune-Bruay, Artois-Lys Romane             94   \n",
      "2       240600585                    CA de Sophia Antipolis            NaN   \n",
      "3       200034064          CC du Cordais et du Causse (4 C)             40   \n",
      "4       200067825                    CA Gap-Tallard-Durance            NaN   \n",
      "\n",
      "   ...  Sous-catégorie musique  \\\n",
      "0  ...                     NaN   \n",
      "1  ...             Rock, Métal   \n",
      "2  ...  Musique traditionnelle   \n",
      "3  ...       Musique classique   \n",
      "4  ...                     NaN   \n",
      "\n",
      "                          Sous-catégorie Musique CNM  \\\n",
      "0            07- Musiques actuelles sans distinction   \n",
      "1           02- Musiques amplifiées ou électroniques   \n",
      "2                                                NaN   \n",
      "3  11- Musique classique, lyrique, contemporaine,...   \n",
      "4                                                NaN   \n",
      "\n",
      "  Sous-catégorie cinéma et audiovisuel  \\\n",
      "0                                  NaN   \n",
      "1                                  NaN   \n",
      "2                                  NaN   \n",
      "3                                  NaN   \n",
      "4                                  NaN   \n",
      "\n",
      "  Sous-catégorie arts visuels et arts numériques  \\\n",
      "0                                            NaN   \n",
      "1                                            NaN   \n",
      "2                                            NaN   \n",
      "3                                            NaN   \n",
      "4                                            NaN   \n",
      "\n",
      "  Sous-catégorie livre et littérature  \\\n",
      "0                                 NaN   \n",
      "1                                 NaN   \n",
      "2                                 NaN   \n",
      "3                                 NaN   \n",
      "4                                 NaN   \n",
      "\n",
      "  Période principale de déroulement du festival Identifiant Agence A  \\\n",
      "0                Saison (21 juin - 5 septembre)                  NaN   \n",
      "1          Avant-saison (1er janvier - 20 juin)                  NaN   \n",
      "2                Saison (21 juin - 5 septembre)                  NaN   \n",
      "3                Saison (21 juin - 5 septembre)                  NaN   \n",
      "4      Après-saison (6 septembre - 31 décembre)                  NaN   \n",
      "\n",
      "       Identifiant                  Géocodage xy identifiant CNM  \n",
      "0  FEST_39073_1020   46.8746666632, 5.6278782462          2980.0  \n",
      "1  FEST_62200_1194  50.5116047377, 2.73659179875          2156.0  \n",
      "2  FEST_06004_1222   43.587465146, 7.10635418256             NaN  \n",
      "3  FEST_81069_1818  44.0681683828, 1.95360871103          5932.0  \n",
      "4  FEST_05061_2353  44.5798600596, 6.06486052138             NaN  \n",
      "\n",
      "[5 rows x 30 columns]\n",
      "<class 'pandas.core.frame.DataFrame'>\n",
      "RangeIndex: 7283 entries, 0 to 7282\n",
      "Data columns (total 30 columns):\n",
      " #   Column                                                 Non-Null Count  Dtype  \n",
      "---  ------                                                 --------------  -----  \n",
      " 0   ﻿Nom du festival                                       7283 non-null   object \n",
      " 1   Envergure territoriale                                 1899 non-null   object \n",
      " 2   Région principale de déroulement                       7283 non-null   object \n",
      " 3   Département principal de déroulement                   7257 non-null   object \n",
      " 4   Commune principale de déroulement                      7257 non-null   object \n",
      " 5   Code postal (de la commune principale de déroulement)  7266 non-null   object \n",
      " 6   Code Insee commune                                     7282 non-null   object \n",
      " 7   Code Insee EPCI                                        7247 non-null   object \n",
      " 8   Libellé EPCI                                           7247 non-null   object \n",
      " 9   Numéro de voie                                         2205 non-null   object \n",
      " 10  Type de voie (rue, Avenue, boulevard, etc.)            2872 non-null   object \n",
      " 11  Nom de la voie                                         3501 non-null   object \n",
      " 12  Adresse postale                                        3512 non-null   object \n",
      " 13  Complément d'adresse (facultatif)                      2202 non-null   object \n",
      " 14  Site internet du festival                              6558 non-null   object \n",
      " 15  Adresse e-mail                                         5579 non-null   object \n",
      " 16  Décennie de création du festival                       6914 non-null   object \n",
      " 17  Année de création du festival                          5835 non-null   object \n",
      " 18  Discipline dominante                                   7283 non-null   object \n",
      " 19  Sous-catégorie spectacle vivant                        1455 non-null   object \n",
      " 20  Sous-catégorie musique                                 2619 non-null   object \n",
      " 21  Sous-catégorie Musique CNM                             958 non-null    object \n",
      " 22  Sous-catégorie cinéma et audiovisuel                   498 non-null    object \n",
      " 23  Sous-catégorie arts visuels et arts numériques         280 non-null    object \n",
      " 24  Sous-catégorie livre et littérature                    413 non-null    object \n",
      " 25  Période principale de déroulement du festival          7223 non-null   object \n",
      " 26  Identifiant Agence A                                   826 non-null    object \n",
      " 27  Identifiant                                            7283 non-null   object \n",
      " 28  Géocodage xy                                           7250 non-null   object \n",
      " 29  identifiant CNM                                        958 non-null    float64\n",
      "dtypes: float64(1), object(29)\n",
      "memory usage: 1.7+ MB\n",
      "None\n",
      "       identifiant CNM\n",
      "count       958.000000\n",
      "mean       2244.669102\n",
      "std        1792.419130\n",
      "min           2.000000\n",
      "25%         638.500000\n",
      "50%        1812.000000\n",
      "75%        3638.750000\n",
      "max        6108.000000\n"
     ]
    }
   ],
   "source": [
    "#ce fichier ne peut etre ouvrir que apres l'avoir formaté\n",
    "conso=pd.read_csv('./data/brut/festivals-global-festivals.csv', sep=';')\n",
    "\n",
    "#verif des colonnes\n",
    "print(conso.head())\n",
    "print(conso.info())\n",
    "print(conso.describe())"
   ]
  },
  {
   "cell_type": "markdown",
   "metadata": {},
   "source": [
    "##### RENOMMER LES COLONNNES"
   ]
  },
  {
   "cell_type": "code",
   "execution_count": 13,
   "metadata": {},
   "outputs": [
    {
     "name": "stdout",
     "output_type": "stream",
     "text": [
      "Index(['﻿Nom du festival', 'Envergure territoriale',\n",
      "       'Région principale de déroulement',\n",
      "       'Département principal de déroulement',\n",
      "       'Commune principale de déroulement',\n",
      "       'Code postal (de la commune principale de déroulement)',\n",
      "       'Code Insee commune', 'Code Insee EPCI', 'Libellé EPCI',\n",
      "       'Numéro de voie', 'Type de voie (rue, Avenue, boulevard, etc.)',\n",
      "       'Nom de la voie', 'Adresse postale',\n",
      "       'Complément d'adresse (facultatif)', 'Site internet du festival',\n",
      "       'Adresse e-mail', 'Décennie de création du festival',\n",
      "       'Année de création du festival', 'Discipline dominante',\n",
      "       'Sous-catégorie spectacle vivant', 'Sous-catégorie musique',\n",
      "       'Sous-catégorie Musique CNM', 'Sous-catégorie cinéma et audiovisuel',\n",
      "       'Sous-catégorie arts visuels et arts numériques',\n",
      "       'Sous-catégorie livre et littérature',\n",
      "       'Période principale de déroulement du festival', 'Identifiant Agence A',\n",
      "       'Identifiant', 'Géocodage xy', 'identifiant CNM'],\n",
      "      dtype='object')\n"
     ]
    }
   ],
   "source": [
    "# conso.columns['Date','Heure','Consommation', 'source','Unité']\n",
    "# print(conso.head())\n",
    "print(conso.columns)\n"
   ]
  },
  {
   "cell_type": "code",
   "execution_count": null,
   "metadata": {},
   "outputs": [],
   "source": [
    "#certains noms sont trop long\n",
    "# Renommer les colonnes clés pour simplifier leur manipulation\n",
    "conso.rename(columns={\n",
    "    'Date - Heure': 'DateHeure',\n",
    "    'Date': 'Date',\n",
    "\n",
    "}, inplace=True)\n",
    "\n",
    "\n",
    "# Vérif des nouvelles colonnes\n",
    "print(conso.columns)\n"
   ]
  },
  {
   "cell_type": "markdown",
   "metadata": {},
   "source": [
    "##### Gerer les valeurs maquantes"
   ]
  },
  {
   "cell_type": "code",
   "execution_count": null,
   "metadata": {},
   "outputs": [],
   "source": [
    "# uniquement les lignes contenant des valeurs NaN  dles colonnes importantes\n",
    "conso = conso.dropna(subset=['ConsommationGazTotale', 'ConsommationElectricite', 'ConsommationTotale'])\n",
    "print(conso.info())  # Vérif que NaN ont été supprimés\n"
   ]
  },
  {
   "cell_type": "markdown",
   "metadata": {},
   "source": [
    "##### colonnes inutiles"
   ]
  },
  {
   "cell_type": "code",
   "execution_count": null,
   "metadata": {},
   "outputs": [],
   "source": [
    "conso.drop(columns=['StatutGRTgaz', 'StatutTerega', 'StatutRTE'], inplace=True)\n",
    "print(conso.info())"
   ]
  },
  {
   "cell_type": "code",
   "execution_count": null,
   "metadata": {},
   "outputs": [],
   "source": [
    "#verif final\n",
    "print(conso.isnull().sum())"
   ]
  },
  {
   "cell_type": "markdown",
   "metadata": {},
   "source": [
    "SAUVEGARDE DES DATA CLEAN DANS UN NEW FILE"
   ]
  },
  {
   "cell_type": "code",
   "execution_count": null,
   "metadata": {},
   "outputs": [],
   "source": [
    "conso.to_csv('./data/prepared/conso_clean.csv', index=False) "
   ]
  }
 ],
 "metadata": {
  "kernelspec": {
   "display_name": "Python 3",
   "language": "python",
   "name": "python3"
  },
  "language_info": {
   "codemirror_mode": {
    "name": "ipython",
    "version": 3
   },
   "file_extension": ".py",
   "mimetype": "text/x-python",
   "name": "python",
   "nbconvert_exporter": "python",
   "pygments_lexer": "ipython3",
   "version": "3.12.1"
  }
 },
 "nbformat": 4,
 "nbformat_minor": 2
}
