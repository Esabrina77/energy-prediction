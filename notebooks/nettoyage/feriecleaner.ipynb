{
 "cells": [
  {
   "cell_type": "code",
   "execution_count": null,
   "metadata": {},
   "outputs": [],
   "source": [
    "import pandas as pd\n",
    "print(\"Codespaces fonctionne !\") #test"
   ]
  },
  {
   "cell_type": "code",
   "execution_count": null,
   "metadata": {},
   "outputs": [],
   "source": [
    "import os\n",
    "os.chdir('/workspaces/projet-iadata')  # Change le répertoire vers la racine\n",
    "print(os.getcwd()) "
   ]
  },
  {
   "cell_type": "markdown",
   "metadata": {},
   "source": [
    "### LECTURE DU FICHIER"
   ]
  },
  {
   "cell_type": "code",
   "execution_count": null,
   "metadata": {},
   "outputs": [],
   "source": [
    "# Lecture de fichier\n",
    "file_path='./data/brut/jours-feries.csv'\n",
    "print(file_path)"
   ]
  },
  {
   "cell_type": "code",
   "execution_count": null,
   "metadata": {},
   "outputs": [],
   "source": [
    "ferie=pd.read_csv(file_path, sep=';')\n",
    "print(ferie.columns)\n",
    "print(ferie.head())"
   ]
  },
  {
   "cell_type": "code",
   "execution_count": null,
   "metadata": {},
   "outputs": [],
   "source": [
    "# Conversion de la colonne 'date' en datetime\n",
    "ferie['date'] = pd.to_datetime(ferie['date'], errors='coerce')\n"
   ]
  },
  {
   "cell_type": "code",
   "execution_count": null,
   "metadata": {},
   "outputs": [],
   "source": [
    "# Tri des données par la colonne 'date' en ordre croissant\n",
    "ferie_sorted = ferie.sort_values(by='date', ascending=True)\n",
    "\n",
    "# Réinitialisation de l'index pour un DataFrame propre après le tri\n",
    "ferie_sorted.reset_index(drop=True, inplace=True)\n",
    "print(ferie_sorted.head())"
   ]
  },
  {
   "cell_type": "code",
   "execution_count": null,
   "metadata": {},
   "outputs": [],
   "source": [
    "# Sauvegarde du fichier nettoyé\n",
    "output_path = './data/prepared/ferie_clean.csv'\n",
    "ferie_sorted.to_csv(output_path, index=False)\n",
    "print(f\"Dataset nettoyé et renommé sauvegardé dans {output_path}\")\n"
   ]
  }
 ],
 "metadata": {
  "kernelspec": {
   "display_name": "Python 3",
   "language": "python",
   "name": "python3"
  },
  "language_info": {
   "codemirror_mode": {
    "name": "ipython",
    "version": 3
   },
   "file_extension": ".py",
   "mimetype": "text/x-python",
   "name": "python",
   "nbconvert_exporter": "python",
   "pygments_lexer": "ipython3",
   "version": "3.12.1"
  }
 },
 "nbformat": 4,
 "nbformat_minor": 2
}
