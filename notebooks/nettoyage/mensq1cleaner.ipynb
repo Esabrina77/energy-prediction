{
 "cells": [
  {
   "cell_type": "code",
   "execution_count": 1,
   "metadata": {},
   "outputs": [
    {
     "name": "stdout",
     "output_type": "stream",
     "text": [
      "Codespaces fonctionne !\n"
     ]
    }
   ],
   "source": [
    "import pandas as pd\n",
    "print(\"Codespaces fonctionne !\") #test"
   ]
  },
  {
   "cell_type": "code",
   "execution_count": 2,
   "metadata": {},
   "outputs": [
    {
     "name": "stdout",
     "output_type": "stream",
     "text": [
      "/workspaces/projet-iadata\n"
     ]
    }
   ],
   "source": [
    "import os\n",
    "os.chdir('/workspaces/projet-iadata')  # Change le répertoire vers la racine\n",
    "print(os.getcwd()) \n"
   ]
  },
  {
   "cell_type": "markdown",
   "metadata": {},
   "source": [
    "## NETTOYAGE DE DONNEES"
   ]
  },
  {
   "cell_type": "markdown",
   "metadata": {},
   "source": [
    "### VERIFIER LES SEPARATEURS"
   ]
  },
  {
   "cell_type": "code",
   "execution_count": 5,
   "metadata": {},
   "outputs": [
    {
     "name": "stdout",
     "output_type": "stream",
     "text": [
      "./data/brut/MENSQ_01_latest-2023-2024.csv\n"
     ]
    }
   ],
   "source": [
    "#lecture de fichier\n",
    "file_path='./data/brut/MENSQ_01_latest-2023-2024.csv'\n",
    "print(file_path)"
   ]
  },
  {
   "cell_type": "code",
   "execution_count": null,
   "metadata": {},
   "outputs": [
    {
     "name": "stdout",
     "output_type": "stream",
     "text": [
      "Index(['NUM_POSTE', 'NOM_USUEL', 'LAT', 'LON', 'ALTI', 'AAAAMM', 'RR', 'QRR',\n",
      "       'NBRR', 'RR_ME',\n",
      "       ...\n",
      "       'QNEIGETOTM', 'NEIGETOTAB', 'QNEIGETOTAB', 'NEIGETOTABDAT',\n",
      "       'NBJNEIGETOT1', 'NBJNEIGETOT10', 'NBJNEIGETOT30', 'NBJGREL', 'NBJORAG',\n",
      "       'NBJBROU'],\n",
      "      dtype='object', length=162)\n"
     ]
    }
   ],
   "source": [
    "#ce fichier ne peut etre ouvert que apres l'avoir formaté\n",
    "mensq=pd.read_csv(file_path, sep=';')\n",
    "\n",
    "\n",
    "print(mensq.columns)#verif des colonnes\n"
   ]
  },
  {
   "cell_type": "code",
   "execution_count": null,
   "metadata": {},
   "outputs": [],
   "source": []
  },
  {
   "cell_type": "markdown",
   "metadata": {},
   "source": [
    "##### RENOMMER LES COLONNNES"
   ]
  },
  {
   "cell_type": "code",
   "execution_count": null,
   "metadata": {},
   "outputs": [
    {
     "name": "stdout",
     "output_type": "stream",
     "text": [
      "Index(['NomFestival', 'Envergure', 'Region', 'Departement', 'Commune',\n",
      "       'CodePostal', 'CodeInseeCommune', 'CodeInseeEPCI', 'LibelleEPCI',\n",
      "       'NumVoie', 'TypeVoie', 'NomVoie', 'AdressePostale', 'ComplementAdresse',\n",
      "       'SiteInternet', 'Email', 'DecennieCreation', 'AnneeCreation',\n",
      "       'Discipline', 'CategorieSpectacleVivant', 'CategorieMusique',\n",
      "       'CategorieMusiqueCNM', 'CategorieCinema', 'CategorieArtsVisuels',\n",
      "       'CategorieLitterature', 'PeriodeFestival', 'IdAgenceA', 'Identifiant',\n",
      "       'GeocodageXY', 'IdCNM'],\n",
      "      dtype='object')\n"
     ]
    }
   ],
   "source": [
    "#\n",
    "# Renommerpour simplifier l' usage\n",
    "mensq.rename(columns={\n",
    "    '﻿Nom du festival': 'NomFestival',\n",
    "   \n",
    "}, inplace=True)\n",
    "\n",
    "# verification des colonnes renommées\n",
    "print(mensq.columns)\n",
    "\n"
   ]
  },
  {
   "cell_type": "markdown",
   "metadata": {},
   "source": [
    "### CALCUL POURCENTAGE DE VALEURS NULLES"
   ]
  },
  {
   "cell_type": "code",
   "execution_count": null,
   "metadata": {},
   "outputs": [
    {
     "name": "stdout",
     "output_type": "stream",
     "text": [
      "NomFestival                  0.000000\n",
      "Envergure                   73.925580\n",
      "Region                       0.000000\n",
      "Departement                  0.356996\n",
      "Commune                      0.356996\n",
      "CodePostal                   0.233420\n",
      "CodeInseeCommune             0.013731\n",
      "CodeInseeEPCI                0.494302\n",
      "LibelleEPCI                  0.494302\n",
      "NumVoie                     69.724015\n",
      "TypeVoie                    60.565701\n",
      "NomVoie                     51.929150\n",
      "AdressePostale              51.778113\n",
      "ComplementAdresse           69.765207\n",
      "SiteInternet                 9.954689\n",
      "Email                       23.396952\n",
      "DecennieCreation             5.066593\n",
      "AnneeCreation               19.881917\n",
      "Discipline                   0.000000\n",
      "CategorieSpectacleVivant    80.021969\n",
      "CategorieMusique            64.039544\n",
      "CategorieMusiqueCNM         86.846080\n",
      "CategorieCinema             93.162158\n",
      "CategorieArtsVisuels        96.155430\n",
      "CategorieLitterature        94.329260\n",
      "PeriodeFestival              0.823836\n",
      "IdAgenceA                   88.658520\n",
      "Identifiant                  0.000000\n",
      "GeocodageXY                  0.453110\n",
      "IdCNM                       86.846080\n",
      "dtype: float64\n"
     ]
    }
   ],
   "source": [
    "#pourcentage de valeurs nulles\n",
    "missing_percent= mensq.isnull().mean() * 100\n",
    "\n",
    "print(missing_percent)"
   ]
  },
  {
   "cell_type": "markdown",
   "metadata": {},
   "source": [
    "### CATEGORISER LES COL SELON LES % VALEURS MANQ..."
   ]
  },
  {
   "cell_type": "markdown",
   "metadata": {},
   "source": [
    "#### colonnes à supprimer ( x% >85 )"
   ]
  },
  {
   "cell_type": "code",
   "execution_count": 7,
   "metadata": {},
   "outputs": [],
   "source": [
    "high_missing = missing_percent[missing_percent>85].index"
   ]
  },
  {
   "cell_type": "markdown",
   "metadata": {},
   "source": [
    "#### Remplir par  \"Inconnu\"  (5 < x% <= 50)"
   ]
  },
  {
   "cell_type": "code",
   "execution_count": 8,
   "metadata": {},
   "outputs": [],
   "source": [
    "medium_missing= missing_percent[(missing_percent>5) & (missing_percent<=50)].index"
   ]
  },
  {
   "cell_type": "markdown",
   "metadata": {},
   "source": [
    "#### Supprimer les lignes concernées  (x% <= 5)"
   ]
  },
  {
   "cell_type": "code",
   "execution_count": 9,
   "metadata": {},
   "outputs": [],
   "source": [
    "low_missing = missing_percent[missing_percent <= 5].index  "
   ]
  },
  {
   "cell_type": "markdown",
   "metadata": {},
   "source": [
    "#### Nettoyage des données\n",
    "#### Supprimer les colonnes avec plus de 85% de valeurs manquantes"
   ]
  },
  {
   "cell_type": "code",
   "execution_count": null,
   "metadata": {},
   "outputs": [
    {
     "name": "stdout",
     "output_type": "stream",
     "text": [
      "Colonnes supprimées : ['CategorieMusiqueCNM', 'CategorieCinema', 'CategorieArtsVisuels', 'CategorieLitterature', 'IdAgenceA', 'IdCNM']\n"
     ]
    }
   ],
   "source": [
    "mensq.drop(columns=high_missing, inplace=True)\n",
    "print(f\"Colonnes supprimées : {list(high_missing)}\")"
   ]
  },
  {
   "cell_type": "markdown",
   "metadata": {},
   "source": [
    "#### Remplir les colonnes avec entre 5% et 50% de valeurs manquantes"
   ]
  },
  {
   "cell_type": "code",
   "execution_count": 11,
   "metadata": {},
   "outputs": [
    {
     "name": "stdout",
     "output_type": "stream",
     "text": [
      "Colonnes remplies avec 'Inconnu' : ['SiteInternet', 'Email', 'DecennieCreation', 'AnneeCreation']\n"
     ]
    },
    {
     "name": "stderr",
     "output_type": "stream",
     "text": [
      "/tmp/ipykernel_2265/2740360676.py:2: FutureWarning: A value is trying to be set on a copy of a DataFrame or Series through chained assignment using an inplace method.\n",
      "The behavior will change in pandas 3.0. This inplace method will never work because the intermediate object on which we are setting values always behaves as a copy.\n",
      "\n",
      "For example, when doing 'df[col].method(value, inplace=True)', try using 'df.method({col: value}, inplace=True)' or df[col] = df[col].method(value) instead, to perform the operation inplace on the original object.\n",
      "\n",
      "\n",
      "  festivals[col].fillna(\"Inconnu\", inplace=True)\n"
     ]
    }
   ],
   "source": [
    "for col in medium_missing:\n",
    "    festivals[col].fillna(\"Inconnu\", inplace=True)\n",
    "print(f\"Colonnes remplies avec 'Inconnu' : {list(medium_missing)}\")"
   ]
  },
  {
   "cell_type": "markdown",
   "metadata": {},
   "source": [
    "####  Supprimer les lignes pour les colonnes avec moins de 5% de valeurs manquantes"
   ]
  },
  {
   "cell_type": "code",
   "execution_count": 12,
   "metadata": {},
   "outputs": [
    {
     "name": "stdout",
     "output_type": "stream",
     "text": [
      "Colonnes où les lignes avec valeurs manquantes ont été supprimées : ['NomFestival', 'Region', 'Departement', 'Commune', 'CodePostal', 'CodeInseeCommune', 'CodeInseeEPCI', 'LibelleEPCI', 'Discipline', 'PeriodeFestival', 'Identifiant', 'GeocodageXY']\n"
     ]
    }
   ],
   "source": [
    "festivals.dropna(subset=low_missing, inplace=True)\n",
    "print(f\"Colonnes où les lignes avec valeurs manquantes ont été supprimées : {list(low_missing)}\")"
   ]
  },
  {
   "cell_type": "markdown",
   "metadata": {},
   "source": [
    "#### Afficher les données nettoyées"
   ]
  },
  {
   "cell_type": "code",
   "execution_count": 13,
   "metadata": {},
   "outputs": [
    {
     "name": "stdout",
     "output_type": "stream",
     "text": [
      "appercu des données nettoyées\n",
      "                                  NomFestival  Envergure  \\\n",
      "0                        Les Nuits (Re)Belles        NaN   \n",
      "1                               Y'a pas l'feu  Régionale   \n",
      "2                 Festival du jeune art russe        NaN   \n",
      "3      Festival de musique de Cordes-sur-Ciel        NaN   \n",
      "4  Les rencontres de la cinémathèque montagne        NaN   \n",
      "\n",
      "                       Region      Departement          Commune CodePostal  \\\n",
      "0     Bourgogne-Franche-Comté             Jura         Brainans      39800   \n",
      "1             Hauts-de-France    Pas-de-Calais          Cambrin      62149   \n",
      "2  Provence-Alpes-Côte d'Azur  Alpes-Maritimes           Cannes       6414   \n",
      "3                   Occitanie             Tarn  Cordes-sur-Ciel      81170   \n",
      "4  Provence-Alpes-Côte d'Azur     Hautes-Alpes              Gap       5000   \n",
      "\n",
      "  CodeInseeCommune CodeInseeEPCI                               LibelleEPCI  \\\n",
      "0            39073     200071595  CC Arbois, Poligny, Salins, Cœur du Jura   \n",
      "1            62200     200072460    CA de Béthune-Bruay, Artois-Lys Romane   \n",
      "2             6004     240600585                    CA de Sophia Antipolis   \n",
      "3            81069     200034064          CC du Cordais et du Causse (4 C)   \n",
      "4             5061     200067825                    CA Gap-Tallard-Durance   \n",
      "\n",
      "  NumVoie  ...                                       SiteInternet  \\\n",
      "0     NaN  ...  http://www.moulindebrainans.com/wp-content/upl...   \n",
      "1      94  ...                         www.festival-yapaslfeu.com   \n",
      "2     NaN  ...                         www.palaisdesfestivals.com   \n",
      "3      40  ...             https://www.festivalcordessurciel.com/   \n",
      "4     NaN  ...                                    www.cimalpes.fr   \n",
      "\n",
      "                                  Email DecennieCreation AnneeCreation  \\\n",
      "0                               Inconnu    2010 et après          2014   \n",
      "1                        03 21 49 21 21    2010 et après          2014   \n",
      "2  sortiracannes@palaisdesfestivals.com    2010 et après          2019   \n",
      "3                     acadoc@wanadoo.fr       Avant 1980          1971   \n",
      "4                       cim@cimalpes.fr   De 2000 à 2009          2009   \n",
      "\n",
      "            Discipline CategorieSpectacleVivant        CategorieMusique  \\\n",
      "0              Musique                      NaN                     NaN   \n",
      "1              Musique                      NaN             Rock, Métal   \n",
      "2              Musique                      NaN  Musique traditionnelle   \n",
      "3              Musique                      NaN       Musique classique   \n",
      "4  Cinéma, audiovisuel                      NaN                     NaN   \n",
      "\n",
      "                            PeriodeFestival      Identifiant  \\\n",
      "0            Saison (21 juin - 5 septembre)  FEST_39073_1020   \n",
      "1      Avant-saison (1er janvier - 20 juin)  FEST_62200_1194   \n",
      "2            Saison (21 juin - 5 septembre)  FEST_06004_1222   \n",
      "3            Saison (21 juin - 5 septembre)  FEST_81069_1818   \n",
      "4  Après-saison (6 septembre - 31 décembre)  FEST_05061_2353   \n",
      "\n",
      "                    GeocodageXY  \n",
      "0   46.8746666632, 5.6278782462  \n",
      "1  50.5116047377, 2.73659179875  \n",
      "2   43.587465146, 7.10635418256  \n",
      "3  44.0681683828, 1.95360871103  \n",
      "4  44.5798600596, 6.06486052138  \n",
      "\n",
      "[5 rows x 24 columns]\n",
      "Nombre de lignes paprès le nettoyage : 7184\n"
     ]
    }
   ],
   "source": [
    "print(\"appercu des données nettoyées\")\n",
    "print(festivals.head())\n",
    "print(f\"Nombre de lignes paprès le nettoyage : {len(festivals)}\")"
   ]
  },
  {
   "cell_type": "code",
   "execution_count": 14,
   "metadata": {},
   "outputs": [],
   "source": [
    "#### FILTRER LES COLONNES NECESSAIRES\n",
    "\n",
    "colonnes_utiles=[\n",
    "     'NomFestival', 'Envergure', 'Region', 'Departement', 'Commune',\n",
    "    'CodePostal', 'Discipline', 'PeriodeFestival', 'GeocodageXY'\n",
    "]\n",
    "\n",
    "## GARDER LES COLONNES UTILES POUR L'ANALYSE\n",
    "festivals_reduits=festivals[colonnes_utiles]"
   ]
  },
  {
   "cell_type": "code",
   "execution_count": 15,
   "metadata": {},
   "outputs": [
    {
     "name": "stdout",
     "output_type": "stream",
     "text": [
      "colonnes finales concervées\n",
      "Index(['NomFestival', 'Envergure', 'Region', 'Departement', 'Commune',\n",
      "       'CodePostal', 'Discipline', 'PeriodeFestival', 'GeocodageXY'],\n",
      "      dtype='object')\n",
      "                                  NomFestival  Envergure  \\\n",
      "0                        Les Nuits (Re)Belles        NaN   \n",
      "1                               Y'a pas l'feu  Régionale   \n",
      "2                 Festival du jeune art russe        NaN   \n",
      "3      Festival de musique de Cordes-sur-Ciel        NaN   \n",
      "4  Les rencontres de la cinémathèque montagne        NaN   \n",
      "\n",
      "                       Region      Departement          Commune CodePostal  \\\n",
      "0     Bourgogne-Franche-Comté             Jura         Brainans      39800   \n",
      "1             Hauts-de-France    Pas-de-Calais          Cambrin      62149   \n",
      "2  Provence-Alpes-Côte d'Azur  Alpes-Maritimes           Cannes       6414   \n",
      "3                   Occitanie             Tarn  Cordes-sur-Ciel      81170   \n",
      "4  Provence-Alpes-Côte d'Azur     Hautes-Alpes              Gap       5000   \n",
      "\n",
      "            Discipline                           PeriodeFestival  \\\n",
      "0              Musique            Saison (21 juin - 5 septembre)   \n",
      "1              Musique      Avant-saison (1er janvier - 20 juin)   \n",
      "2              Musique            Saison (21 juin - 5 septembre)   \n",
      "3              Musique            Saison (21 juin - 5 septembre)   \n",
      "4  Cinéma, audiovisuel  Après-saison (6 septembre - 31 décembre)   \n",
      "\n",
      "                    GeocodageXY  \n",
      "0   46.8746666632, 5.6278782462  \n",
      "1  50.5116047377, 2.73659179875  \n",
      "2   43.587465146, 7.10635418256  \n",
      "3  44.0681683828, 1.95360871103  \n",
      "4  44.5798600596, 6.06486052138  \n"
     ]
    }
   ],
   "source": [
    "##APPERCU DES DONNEES REDUITES\n",
    "print(\"colonnes finales concervées\")\n",
    "print(festivals_reduits.columns)\n",
    "print(festivals_reduits.head())"
   ]
  },
  {
   "cell_type": "markdown",
   "metadata": {},
   "source": [
    "#### SAUVEGARDE DES DONNEES DANS UN NOUVEAU FICHIER"
   ]
  },
  {
   "cell_type": "code",
   "execution_count": 18,
   "metadata": {},
   "outputs": [
    {
     "name": "stdout",
     "output_type": "stream",
     "text": [
      "           NomFestival       Envergure                Region  \\\n",
      "count             7184            1866                  7184   \n",
      "unique            7079              70                    18   \n",
      "top     Salon du livre  Intercommunale  Auvergne-Rhône-Alpes   \n",
      "freq                 6             764                   945   \n",
      "\n",
      "             Departement Commune CodePostal Discipline  \\\n",
      "count               7184    7184       7184       7184   \n",
      "unique               108    3134       2686          6   \n",
      "top     Bouches-du-Rhône   Paris      35000    Musique   \n",
      "freq                 300     295         70       3183   \n",
      "\n",
      "                       PeriodeFestival      GeocodageXY  \n",
      "count                             7184             7184  \n",
      "unique                              22             3135  \n",
      "top     Saison (21 juin - 5 septembre)  48.8567, 2.3508  \n",
      "freq                              2627              123  \n"
     ]
    }
   ],
   "source": [
    "# Vérification des modifications\n",
    "print(festivals_reduits.describe())\n",
    "\n",
    "festivals_reduits.to_csv('./data/prepared/festi_clean.csv', index=False) "
   ]
  }
 ],
 "metadata": {
  "kernelspec": {
   "display_name": "Python 3",
   "language": "python",
   "name": "python3"
  },
  "language_info": {
   "codemirror_mode": {
    "name": "ipython",
    "version": 3
   },
   "file_extension": ".py",
   "mimetype": "text/x-python",
   "name": "python",
   "nbconvert_exporter": "python",
   "pygments_lexer": "ipython3",
   "version": "3.12.1"
  }
 },
 "nbformat": 4,
 "nbformat_minor": 2
}
