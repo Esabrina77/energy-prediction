{
 "cells": [
  {
   "cell_type": "code",
   "execution_count": null,
   "metadata": {},
   "outputs": [],
   "source": [
    "import pandas as pd\n",
    "print(\"Codespaces fonctionne !\")"
   ]
  },
  {
   "cell_type": "code",
   "execution_count": null,
   "metadata": {},
   "outputs": [],
   "source": [
    "import os\n",
    "os.chdir('/workspaces/projet-iadata')  # Change le répertoire vers la racine\n",
    "print(os.getcwd())  # Vérif"
   ]
  },
  {
   "cell_type": "markdown",
   "metadata": {},
   "source": [
    "### Importer le fichier "
   ]
  },
  {
   "cell_type": "code",
   "execution_count": null,
   "metadata": {},
   "outputs": [],
   "source": [
    "# Chargement du fichier brut\n",
    "file_path = './data/brut/obser-meteo.csv'\n",
    "meteo = pd.read_csv(file_path, sep=';', low_memory=False)\n",
    "\n",
    "print(meteo.head()) #en tete du fichier\n",
    "print(meteo.columns)"
   ]
  },
  {
   "cell_type": "code",
   "execution_count": null,
   "metadata": {},
   "outputs": [],
   "source": [
    "\n",
    "# Colonnes à conserver\n",
    "columns_to_keep = {\n",
    "    'Date': 'date',\n",
    "    'Température': 'temperature',\n",
    "    'Humidité': 'humidity',\n",
    "    'Pression au niveau mer': 'pressure_sea_level',\n",
    "    'Direction du vent moyen 10 mn': 'wind_direction',\n",
    "    'Vitesse du vent moyen 10 mn': 'wind_speed',\n",
    "    'Température minimale du sol sur 12 heures (en °C)': 'min_soil_temp',\n",
    "    'Latitude': 'latitude',\n",
    "    'Longitude': 'longitude',\n",
    "    'Altitude': 'altitude',\n",
    "    'communes (name)': 'city_name',\n",
    "    'communes (code)': 'city_code',\n",
    "    'EPCI (name)': 'epci_name',\n",
    "    'EPCI (code)': 'epci_code',\n",
    "    'department (name)': 'department_name',\n",
    "    'department (code)': 'department_code',\n",
    "    'region (name)': 'region_name',\n",
    "    'region (code)': 'region_code',\n",
    "    'mois_de_l_annee': 'month_of_year'\n",
    "}"
   ]
  },
  {
   "cell_type": "code",
   "execution_count": null,
   "metadata": {},
   "outputs": [],
   "source": [
    "\n",
    "# Filtrage et renommage des colonnes\n",
    "meteo_filtered = meteo[list(columns_to_keep.keys())].rename(columns=columns_to_keep)\n",
    "\n",
    "print(meteo_filtered.columns)"
   ]
  },
  {
   "cell_type": "code",
   "execution_count": null,
   "metadata": {},
   "outputs": [],
   "source": [
    "\n",
    "# Conversion de la colonne 'date' en datetime\n",
    "meteo_filtered['date'] = pd.to_datetime(meteo_filtered['date'], errors='coerce')\n"
   ]
  },
  {
   "cell_type": "code",
   "execution_count": null,
   "metadata": {},
   "outputs": [],
   "source": [
    "# Gestion des valeurs manquantes\n",
    "meteo_filtered.fillna({\n",
    "    'temperature': meteo_filtered['temperature'].mean(),\n",
    "    'humidity': meteo_filtered['humidity'].mean(),\n",
    "    'pressure_sea_level': meteo_filtered['pressure_sea_level'].mean(),\n",
    "    'min_soil_temp': meteo_filtered['min_soil_temp'].mean(),\n",
    "    'wind_direction': meteo_filtered['wind_direction'].mode()[0] if not meteo_filtered['wind_direction'].isnull().all() else 0,\n",
    "    'wind_speed': meteo_filtered['wind_speed'].mean(),\n",
    "}, inplace=True)\n"
   ]
  },
  {
   "cell_type": "code",
   "execution_count": null,
   "metadata": {},
   "outputs": [],
   "source": [
    "\n",
    "\n",
    "# Suppression des lignes avec des dates invalides\n",
    "meteo_filtered.dropna(subset=['date'], inplace=True)\n"
   ]
  },
  {
   "cell_type": "code",
   "execution_count": null,
   "metadata": {},
   "outputs": [],
   "source": [
    "# Validation du nettoyage et des renommages\n",
    "print(meteo_filtered.head())\n",
    "print(meteo_filtered.info())"
   ]
  },
  {
   "cell_type": "code",
   "execution_count": null,
   "metadata": {},
   "outputs": [],
   "source": [
    "# Tri des données par la colonne 'date' en ordre croissant\n",
    "meteo_sorted = meteo_filtered.sort_values(by='date', ascending=True)\n",
    "\n",
    "# Réinitialisation de l'index pour un DataFrame propre après le tri\n",
    "meteo_sorted.reset_index(drop=True, inplace=True)\n",
    "print(meteo_sorted.head())"
   ]
  },
  {
   "cell_type": "code",
   "execution_count": null,
   "metadata": {},
   "outputs": [],
   "source": [
    "# Sauvegarde du fichier nettoyé\n",
    "output_path = './data/prepared/meteo_clean.csv'\n",
    "meteo_sorted.to_csv(output_path, index=False)\n",
    "print(f\"Dataset nettoyé et renommé sauvegardé dans {output_path}\")\n"
   ]
  }
 ],
 "metadata": {
  "kernelspec": {
   "display_name": "Python 3",
   "language": "python",
   "name": "python3"
  },
  "language_info": {
   "codemirror_mode": {
    "name": "ipython",
    "version": 3
   },
   "file_extension": ".py",
   "mimetype": "text/x-python",
   "name": "python",
   "nbconvert_exporter": "python",
   "pygments_lexer": "ipython3",
   "version": "3.12.1"
  }
 },
 "nbformat": 4,
 "nbformat_minor": 2
}
