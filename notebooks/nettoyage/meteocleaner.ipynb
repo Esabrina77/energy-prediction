{
 "cells": [
  {
   "cell_type": "code",
   "execution_count": 50,
   "metadata": {},
   "outputs": [
    {
     "name": "stdout",
     "output_type": "stream",
     "text": [
      "Codespaces fonctionne !\n"
     ]
    }
   ],
   "source": [
    "import pandas as pd\n",
    "print(\"Codespaces fonctionne !\")"
   ]
  },
  {
   "cell_type": "code",
   "execution_count": 51,
   "metadata": {},
   "outputs": [
    {
     "name": "stdout",
     "output_type": "stream",
     "text": [
      "/workspaces/projet-iadata\n"
     ]
    }
   ],
   "source": [
    "import os\n",
    "os.chdir('/workspaces/projet-iadata')  # Change le répertoire vers la racine\n",
    "print(os.getcwd())  # Vérif"
   ]
  },
  {
   "cell_type": "markdown",
   "metadata": {},
   "source": [
    "### Importer le fichier "
   ]
  },
  {
   "cell_type": "code",
   "execution_count": 52,
   "metadata": {},
   "outputs": [
    {
     "name": "stdout",
     "output_type": "stream",
     "text": [
      "   ID OMM station                       Date  Pression au niveau mer  \\\n",
      "0            7630  2010-01-06T15:00:00+00:00                100500.0   \n",
      "1            7630  2010-01-04T06:00:00+00:00                101190.0   \n",
      "2            7630  2010-03-01T15:00:00+00:00                101440.0   \n",
      "3            7630  2010-02-24T09:00:00+00:00                100600.0   \n",
      "4            7630  2010-04-12T06:00:00+00:00                101030.0   \n",
      "\n",
      "   Variation de pression en 3 heures  Type de tendance barométrique  \\\n",
      "0                                0.0                            5.0   \n",
      "1                             -140.0                            7.0   \n",
      "2                               80.0                            3.0   \n",
      "3                              220.0                            3.0   \n",
      "4                               60.0                            3.0   \n",
      "\n",
      "   Direction du vent moyen 10 mn  Vitesse du vent moyen 10 mn  Température  \\\n",
      "0                          300.0                          4.1       278.85   \n",
      "1                          170.0                          1.5       277.15   \n",
      "2                          310.0                          6.7       287.75   \n",
      "3                          300.0                          7.2       285.65   \n",
      "4                          310.0                          3.6       278.85   \n",
      "\n",
      "   Point de rosée  Humidité  ...  Altitude  communes (name)  communes (code)  \\\n",
      "0          273.75      70.0  ...       151          Blagnac            31069   \n",
      "1          276.25      94.0  ...       151          Blagnac            31069   \n",
      "2          275.95      45.0  ...       151          Blagnac            31069   \n",
      "3          278.35      61.0  ...       151          Blagnac            31069   \n",
      "4          273.65      69.0  ...       151          Blagnac            31069   \n",
      "\n",
      "          EPCI (name)  EPCI (code)  department (name)  department (code)  \\\n",
      "0  Toulouse Métropole  243100518.0      Haute-Garonne                 31   \n",
      "1  Toulouse Métropole  243100518.0      Haute-Garonne                 31   \n",
      "2  Toulouse Métropole  243100518.0      Haute-Garonne                 31   \n",
      "3  Toulouse Métropole  243100518.0      Haute-Garonne                 31   \n",
      "4  Toulouse Métropole  243100518.0      Haute-Garonne                 31   \n",
      "\n",
      "   region (name)  region (code)  mois_de_l_annee  \n",
      "0      Occitanie             76                1  \n",
      "1      Occitanie             76                1  \n",
      "2      Occitanie             76                3  \n",
      "3      Occitanie             76                2  \n",
      "4      Occitanie             76                4  \n",
      "\n",
      "[5 rows x 82 columns]\n",
      "Index(['ID OMM station', 'Date', 'Pression au niveau mer',\n",
      "       'Variation de pression en 3 heures', 'Type de tendance barométrique',\n",
      "       'Direction du vent moyen 10 mn', 'Vitesse du vent moyen 10 mn',\n",
      "       'Température', 'Point de rosée', 'Humidité', 'Visibilité horizontale',\n",
      "       'Temps présent', 'Temps passé 1', 'Temps passé 2', 'Nebulosité totale',\n",
      "       'Nébulosité  des nuages de l' étage inférieur',\n",
      "       'Hauteur de la base des nuages de l'étage inférieur',\n",
      "       'Type des nuages de l'étage inférieur',\n",
      "       'Type des nuages de l'étage moyen',\n",
      "       'Type des nuages de l'étage supérieur', 'Pression station',\n",
      "       'Niveau barométrique', 'Géopotentiel',\n",
      "       'Variation de pression en 24 heures',\n",
      "       'Température minimale sur 12 heures',\n",
      "       'Température minimale sur 24 heures',\n",
      "       'Température maximale sur 12 heures',\n",
      "       'Température maximale sur 24 heures',\n",
      "       'Température minimale du sol sur 12 heures',\n",
      "       'Méthode de mesure Température du thermomètre mouillé',\n",
      "       'Température du thermomètre mouillé',\n",
      "       'Rafale sur les 10 dernières minutes', 'Rafales sur une période',\n",
      "       'Periode de mesure de la rafale', 'Etat du sol',\n",
      "       'Hauteur totale de la couche de neige, glace, autre au sol',\n",
      "       'Hauteur de la neige fraîche', 'Periode de mesure de la neige fraiche',\n",
      "       'Précipitations dans la dernière heure',\n",
      "       'Précipitations dans les 3 dernières heures',\n",
      "       'Précipitations dans les 6 dernières heures',\n",
      "       'Précipitations dans les 12 dernières heures',\n",
      "       'Précipitations dans les 24 dernières heures', 'Phénomène spécial 1',\n",
      "       'Phénomène spécial 2', 'Phénomène spécial 3', 'Phénomène spécial 4',\n",
      "       'Nébulosité couche nuageuse 1', 'Type nuage 1', 'Hauteur de base 1',\n",
      "       'Nébulosité couche nuageuse 2', 'Type nuage 2', 'Hauteur de base 2',\n",
      "       'Nébulosité couche nuageuse 3', 'Type nuage 3', 'Hauteur de base 3',\n",
      "       'Nébulosité couche nuageuse 4', 'Type nuage 4', 'Hauteur de base 4',\n",
      "       'Coordonnees', 'Nom', 'Type de tendance barométrique.1',\n",
      "       'Temps passé 1.1', 'Temps présent.1', 'Température (°C)',\n",
      "       'Température minimale sur 12 heures (°C)',\n",
      "       'Température minimale sur 24 heures (°C)',\n",
      "       'Température maximale sur 12 heures (°C)',\n",
      "       'Température maximale sur 24 heures (°C)',\n",
      "       'Température minimale du sol sur 12 heures (en °C)', 'Latitude',\n",
      "       'Longitude', 'Altitude', 'communes (name)', 'communes (code)',\n",
      "       'EPCI (name)', 'EPCI (code)', 'department (name)', 'department (code)',\n",
      "       'region (name)', 'region (code)', 'mois_de_l_annee'],\n",
      "      dtype='object')\n"
     ]
    }
   ],
   "source": [
    "# Chargement du fichier brut\n",
    "file_path = './data/brut/obser-meteo.csv'\n",
    "meteo = pd.read_csv(file_path, sep=';', low_memory=False)\n",
    "\n",
    "print(meteo.head()) #en tete du fichier\n",
    "print(meteo.columns)"
   ]
  },
  {
   "cell_type": "code",
   "execution_count": 53,
   "metadata": {},
   "outputs": [],
   "source": [
    "\n",
    "# Colonnes à conserver\n",
    "columns_to_keep = {\n",
    "    'Date': 'date',\n",
    "    'Température': 'temperature',\n",
    "    'Humidité': 'humidity',\n",
    "    'Pression au niveau mer': 'pressure_sea_level',\n",
    "    'Direction du vent moyen 10 mn': 'wind_direction',\n",
    "    'Vitesse du vent moyen 10 mn': 'wind_speed',\n",
    "    'Température minimale du sol sur 12 heures (en °C)': 'min_soil_temp',\n",
    "    'Latitude': 'latitude',\n",
    "    'Longitude': 'longitude',\n",
    "    'Altitude': 'altitude',\n",
    "    'communes (name)': 'city_name',\n",
    "    'communes (code)': 'city_code',\n",
    "    'EPCI (name)': 'epci_name',\n",
    "    'EPCI (code)': 'epci_code',\n",
    "    'department (name)': 'department_name',\n",
    "    'department (code)': 'department_code',\n",
    "    'region (name)': 'region_name',\n",
    "    'region (code)': 'region_code',\n",
    "    'mois_de_l_annee': 'month_of_year'\n",
    "}"
   ]
  },
  {
   "cell_type": "code",
   "execution_count": 54,
   "metadata": {},
   "outputs": [
    {
     "name": "stdout",
     "output_type": "stream",
     "text": [
      "Index(['date', 'temperature', 'humidity', 'pressure_sea_level',\n",
      "       'wind_direction', 'wind_speed', 'min_soil_temp', 'latitude',\n",
      "       'longitude', 'altitude', 'city_name', 'city_code', 'epci_name',\n",
      "       'epci_code', 'department_name', 'department_code', 'region_name',\n",
      "       'region_code', 'month_of_year'],\n",
      "      dtype='object')\n"
     ]
    }
   ],
   "source": [
    "\n",
    "# Filtrage et renommage des colonnes\n",
    "meteo_filtered = meteo[list(columns_to_keep.keys())].rename(columns=columns_to_keep)\n",
    "\n",
    "print(meteo_filtered.columns)"
   ]
  },
  {
   "cell_type": "code",
   "execution_count": 55,
   "metadata": {},
   "outputs": [],
   "source": [
    "\n",
    "# Conversion de la colonne 'date' en datetime\n",
    "meteo_filtered['date'] = pd.to_datetime(meteo_filtered['date'], errors='coerce')\n"
   ]
  },
  {
   "cell_type": "code",
   "execution_count": 56,
   "metadata": {},
   "outputs": [],
   "source": [
    "# Gestion des valeurs manquantes\n",
    "meteo_filtered.fillna({\n",
    "    'temperature': meteo_filtered['temperature'].mean(),\n",
    "    'humidity': meteo_filtered['humidity'].mean(),\n",
    "    'pressure_sea_level': meteo_filtered['pressure_sea_level'].mean(),\n",
    "    'min_soil_temp': meteo_filtered['min_soil_temp'].mean(),\n",
    "    'wind_direction': meteo_filtered['wind_direction'].mode()[0] if not meteo_filtered['wind_direction'].isnull().all() else 0,\n",
    "    'wind_speed': meteo_filtered['wind_speed'].mean(),\n",
    "}, inplace=True)\n"
   ]
  },
  {
   "cell_type": "code",
   "execution_count": 57,
   "metadata": {},
   "outputs": [],
   "source": [
    "\n",
    "\n",
    "# Suppression des lignes avec des dates invalides\n",
    "meteo_filtered.dropna(subset=['date'], inplace=True)\n"
   ]
  },
  {
   "cell_type": "code",
   "execution_count": 58,
   "metadata": {},
   "outputs": [
    {
     "name": "stdout",
     "output_type": "stream",
     "text": [
      "                       date  temperature  humidity  pressure_sea_level  \\\n",
      "0 2010-01-06 15:00:00+00:00       278.85      70.0            100500.0   \n",
      "1 2010-01-04 06:00:00+00:00       277.15      94.0            101190.0   \n",
      "2 2010-03-01 15:00:00+00:00       287.75      45.0            101440.0   \n",
      "3 2010-02-24 09:00:00+00:00       285.65      61.0            100600.0   \n",
      "4 2010-04-12 06:00:00+00:00       278.85      69.0            101030.0   \n",
      "\n",
      "   wind_direction  wind_speed  min_soil_temp  latitude  longitude  altitude  \\\n",
      "0           300.0         4.1      10.632302    43.621   1.378833       151   \n",
      "1           170.0         1.5       2.000000    43.621   1.378833       151   \n",
      "2           310.0         6.7      10.632302    43.621   1.378833       151   \n",
      "3           300.0         7.2      10.632302    43.621   1.378833       151   \n",
      "4           310.0         3.6       4.000000    43.621   1.378833       151   \n",
      "\n",
      "  city_name city_code           epci_name    epci_code department_name  \\\n",
      "0   Blagnac     31069  Toulouse Métropole  243100518.0   Haute-Garonne   \n",
      "1   Blagnac     31069  Toulouse Métropole  243100518.0   Haute-Garonne   \n",
      "2   Blagnac     31069  Toulouse Métropole  243100518.0   Haute-Garonne   \n",
      "3   Blagnac     31069  Toulouse Métropole  243100518.0   Haute-Garonne   \n",
      "4   Blagnac     31069  Toulouse Métropole  243100518.0   Haute-Garonne   \n",
      "\n",
      "  department_code region_name  region_code  month_of_year  \n",
      "0              31   Occitanie           76              1  \n",
      "1              31   Occitanie           76              1  \n",
      "2              31   Occitanie           76              3  \n",
      "3              31   Occitanie           76              2  \n",
      "4              31   Occitanie           76              4  \n",
      "<class 'pandas.core.frame.DataFrame'>\n",
      "RangeIndex: 43517 entries, 0 to 43516\n",
      "Data columns (total 19 columns):\n",
      " #   Column              Non-Null Count  Dtype              \n",
      "---  ------              --------------  -----              \n",
      " 0   date                43517 non-null  datetime64[ns, UTC]\n",
      " 1   temperature         43517 non-null  float64            \n",
      " 2   humidity            43517 non-null  float64            \n",
      " 3   pressure_sea_level  43517 non-null  float64            \n",
      " 4   wind_direction      43517 non-null  float64            \n",
      " 5   wind_speed          43517 non-null  float64            \n",
      " 6   min_soil_temp       43517 non-null  float64            \n",
      " 7   latitude            43517 non-null  float64            \n",
      " 8   longitude           43517 non-null  float64            \n",
      " 9   altitude            43517 non-null  int64              \n",
      " 10  city_name           43517 non-null  object             \n",
      " 11  city_code           43517 non-null  object             \n",
      " 12  epci_name           43515 non-null  object             \n",
      " 13  epci_code           43515 non-null  float64            \n",
      " 14  department_name     43517 non-null  object             \n",
      " 15  department_code     43517 non-null  object             \n",
      " 16  region_name         43517 non-null  object             \n",
      " 17  region_code         43517 non-null  int64              \n",
      " 18  month_of_year       43517 non-null  int64              \n",
      "dtypes: datetime64[ns, UTC](1), float64(9), int64(3), object(6)\n",
      "memory usage: 6.3+ MB\n",
      "None\n"
     ]
    }
   ],
   "source": [
    "# Validation du nettoyage et des renommages\n",
    "print(meteo_filtered.head())\n",
    "print(meteo_filtered.info())"
   ]
  },
  {
   "cell_type": "code",
   "execution_count": 59,
   "metadata": {},
   "outputs": [
    {
     "name": "stdout",
     "output_type": "stream",
     "text": [
      "                       date  temperature  humidity  pressure_sea_level  \\\n",
      "0 2010-01-01 00:00:00+00:00       280.45      87.0             99430.0   \n",
      "1 2010-01-01 03:00:00+00:00       280.65      72.0             99460.0   \n",
      "2 2010-01-01 06:00:00+00:00       280.55      67.0             99560.0   \n",
      "3 2010-01-01 09:00:00+00:00       279.15      83.0             99950.0   \n",
      "4 2010-01-01 12:00:00+00:00       280.35      80.0            100200.0   \n",
      "\n",
      "   wind_direction  wind_speed  min_soil_temp  latitude  longitude  altitude  \\\n",
      "0           270.0         7.2      10.632302    43.621   1.378833       151   \n",
      "1           270.0        10.8      10.632302    43.621   1.378833       151   \n",
      "2           260.0        11.3       6.000000    43.621   1.378833       151   \n",
      "3           260.0        10.8      10.632302    43.621   1.378833       151   \n",
      "4           270.0         9.8      10.632302    43.621   1.378833       151   \n",
      "\n",
      "  city_name city_code           epci_name    epci_code department_name  \\\n",
      "0   Blagnac     31069  Toulouse Métropole  243100518.0   Haute-Garonne   \n",
      "1   Blagnac     31069  Toulouse Métropole  243100518.0   Haute-Garonne   \n",
      "2   Blagnac     31069  Toulouse Métropole  243100518.0   Haute-Garonne   \n",
      "3   Blagnac     31069  Toulouse Métropole  243100518.0   Haute-Garonne   \n",
      "4   Blagnac     31069  Toulouse Métropole  243100518.0   Haute-Garonne   \n",
      "\n",
      "  department_code region_name  region_code  month_of_year  \n",
      "0              31   Occitanie           76              1  \n",
      "1              31   Occitanie           76              1  \n",
      "2              31   Occitanie           76              1  \n",
      "3              31   Occitanie           76              1  \n",
      "4              31   Occitanie           76              1  \n"
     ]
    }
   ],
   "source": [
    "# Tri des données par la colonne 'date' en ordre croissant\n",
    "meteo_sorted = meteo_filtered.sort_values(by='date', ascending=True)\n",
    "\n",
    "# Réinitialisation de l'index pour un DataFrame propre après le tri\n",
    "meteo_sorted.reset_index(drop=True, inplace=True)\n",
    "print(meteo_sorted.head())"
   ]
  },
  {
   "cell_type": "code",
   "execution_count": 60,
   "metadata": {},
   "outputs": [
    {
     "name": "stdout",
     "output_type": "stream",
     "text": [
      "Dataset nettoyé et renommé sauvegardé dans ./data/prepared/meteo_clean.csv\n"
     ]
    }
   ],
   "source": [
    "# Sauvegarde du fichier nettoyé\n",
    "output_path = './data/prepared/meteo_clean.csv'\n",
    "meteo_sorted.to_csv(output_path, index=False)\n",
    "print(f\"Dataset nettoyé et renommé sauvegardé dans {output_path}\")\n"
   ]
  }
 ],
 "metadata": {
  "kernelspec": {
   "display_name": "Python 3",
   "language": "python",
   "name": "python3"
  },
  "language_info": {
   "codemirror_mode": {
    "name": "ipython",
    "version": 3
   },
   "file_extension": ".py",
   "mimetype": "text/x-python",
   "name": "python",
   "nbconvert_exporter": "python",
   "pygments_lexer": "ipython3",
   "version": "3.12.1"
  }
 },
 "nbformat": 4,
 "nbformat_minor": 2
}
