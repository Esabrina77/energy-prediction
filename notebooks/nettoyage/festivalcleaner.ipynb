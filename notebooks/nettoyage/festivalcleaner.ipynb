{
 "cells": [
  {
   "cell_type": "code",
   "execution_count": null,
   "metadata": {},
   "outputs": [],
   "source": [
    "import pandas as pd\n",
    "print(\"Codespaces fonctionne !\") #test"
   ]
  },
  {
   "cell_type": "code",
   "execution_count": null,
   "metadata": {},
   "outputs": [],
   "source": [
    "import os\n",
    "os.chdir('/workspaces/projet-iadata')  # Change le répertoire vers la racine\n",
    "print(os.getcwd()) \n"
   ]
  },
  {
   "cell_type": "markdown",
   "metadata": {},
   "source": [
    "## NETTOYAGE DE DONNEES"
   ]
  },
  {
   "cell_type": "markdown",
   "metadata": {},
   "source": [
    "### VERIFIER LES SEPARATEURS"
   ]
  },
  {
   "cell_type": "code",
   "execution_count": null,
   "metadata": {},
   "outputs": [],
   "source": [
    "#lecture de fichier\n",
    "file_path='./data/brut/festivals-global-festivals.csv'\n",
    "print(file_path)"
   ]
  },
  {
   "cell_type": "code",
   "execution_count": null,
   "metadata": {},
   "outputs": [],
   "source": [
    "#ce fichier ne peut etre ouvert que apres l'avoir formaté\n",
    "festivals=pd.read_csv(file_path, sep=';')\n",
    "\n",
    "\n",
    "print(festivals.head())\n",
    "print(festivals.columns)#verif des colonnes\n"
   ]
  },
  {
   "cell_type": "markdown",
   "metadata": {},
   "source": [
    "##### RENOMMER LES COLONNNES"
   ]
  },
  {
   "cell_type": "code",
   "execution_count": null,
   "metadata": {},
   "outputs": [],
   "source": [
    "#\n",
    "# Renommerpour simplifier l' usage\n",
    "festivals.rename(columns={\n",
    "    '﻿Nom du festival': 'NomFestival',\n",
    "    'Envergure territoriale': 'Envergure',\n",
    "    'Région principale de déroulement': 'Region',\n",
    "    'Département principal de déroulement': 'Departement',\n",
    "    'Commune principale de déroulement': 'Commune',\n",
    "    'Code postal (de la commune principale de déroulement)': 'CodePostal',\n",
    "    'Code Insee commune': 'CodeInseeCommune',\n",
    "    'Code Insee EPCI': 'CodeInseeEPCI',\n",
    "    'Libellé EPCI': 'LibelleEPCI',\n",
    "    'Numéro de voie': 'NumVoie',\n",
    "    'Type de voie (rue, Avenue, boulevard, etc.)': 'TypeVoie',\n",
    "    'Nom de la voie': 'NomVoie',\n",
    "    'Adresse postale': 'AdressePostale',\n",
    "    'Complément d\\'adresse (facultatif)': 'ComplementAdresse',\n",
    "    'Site internet du festival': 'SiteInternet',\n",
    "    'Adresse e-mail': 'Email',\n",
    "    'Décennie de création du festival': 'DecennieCreation',\n",
    "    'Année de création du festival': 'AnneeCreation',\n",
    "    'Discipline dominante': 'Discipline',\n",
    "    'Sous-catégorie spectacle vivant': 'CategorieSpectacleVivant',\n",
    "    'Sous-catégorie musique': 'CategorieMusique',\n",
    "    'Sous-catégorie Musique CNM': 'CategorieMusiqueCNM',\n",
    "    'Sous-catégorie cinéma et audiovisuel': 'CategorieCinema',\n",
    "    'Sous-catégorie arts visuels et arts numériques': 'CategorieArtsVisuels',\n",
    "    'Sous-catégorie livre et littérature': 'CategorieLitterature',\n",
    "    'Période principale de déroulement du festival': 'PeriodeFestival',\n",
    "    'Identifiant Agence A': 'IdAgenceA',\n",
    "    'Identifiant': 'Identifiant',\n",
    "    'Géocodage xy': 'GeocodageXY',\n",
    "    'identifiant CNM': 'IdCNM'\n",
    "}, inplace=True)\n",
    "\n",
    "# verification des colonnes renommées\n",
    "print(festivals.columns)\n",
    "\n"
   ]
  },
  {
   "cell_type": "markdown",
   "metadata": {},
   "source": [
    "### CALCUL POURCENTAGE DE VALEURS NULLES"
   ]
  },
  {
   "cell_type": "code",
   "execution_count": null,
   "metadata": {},
   "outputs": [],
   "source": [
    "#pourcentage de valeurs nulles\n",
    "missing_percent= festivals.isnull().mean() * 100\n",
    "\n",
    "print(missing_percent)"
   ]
  },
  {
   "cell_type": "markdown",
   "metadata": {},
   "source": [
    "### CATEGORISER LES COL SELON LES % VALEURS MANQ..."
   ]
  },
  {
   "cell_type": "markdown",
   "metadata": {},
   "source": [
    "#### colonnes à supprimer ( x% >85 )"
   ]
  },
  {
   "cell_type": "code",
   "execution_count": null,
   "metadata": {},
   "outputs": [],
   "source": [
    "high_missing = missing_percent[missing_percent>85].index"
   ]
  },
  {
   "cell_type": "markdown",
   "metadata": {},
   "source": [
    "#### Remplir par  \"Inconnu\"  (5 < x% <= 50)"
   ]
  },
  {
   "cell_type": "code",
   "execution_count": null,
   "metadata": {},
   "outputs": [],
   "source": [
    "medium_missing= missing_percent[(missing_percent>5) & (missing_percent<=50)].index"
   ]
  },
  {
   "cell_type": "markdown",
   "metadata": {},
   "source": [
    "#### Supprimer les lignes concernées  (x% <= 5)"
   ]
  },
  {
   "cell_type": "code",
   "execution_count": null,
   "metadata": {},
   "outputs": [],
   "source": [
    "low_missing = missing_percent[missing_percent <= 5].index  "
   ]
  },
  {
   "cell_type": "markdown",
   "metadata": {},
   "source": [
    "#### Nettoyage des données\n",
    "#### Supprimer les colonnes avec plus de 85% de valeurs manquantes"
   ]
  },
  {
   "cell_type": "code",
   "execution_count": null,
   "metadata": {},
   "outputs": [],
   "source": [
    "festivals.drop(columns=high_missing, inplace=True)\n",
    "print(f\"Colonnes supprimées : {list(high_missing)}\")"
   ]
  },
  {
   "cell_type": "markdown",
   "metadata": {},
   "source": [
    "#### Remplir les colonnes avec entre 5% et 50% de valeurs manquantes"
   ]
  },
  {
   "cell_type": "code",
   "execution_count": null,
   "metadata": {},
   "outputs": [],
   "source": [
    "for col in medium_missing:\n",
    "    festivals[col].fillna(\"Inconnu\", inplace=True)\n",
    "print(f\"Colonnes remplies avec 'Inconnu' : {list(medium_missing)}\")"
   ]
  },
  {
   "cell_type": "markdown",
   "metadata": {},
   "source": [
    "####  Supprimer les lignes pour les colonnes avec moins de 5% de valeurs manquantes"
   ]
  },
  {
   "cell_type": "code",
   "execution_count": null,
   "metadata": {},
   "outputs": [],
   "source": [
    "festivals.dropna(subset=low_missing, inplace=True)\n",
    "print(f\"Colonnes où les lignes avec valeurs manquantes ont été supprimées : {list(low_missing)}\")"
   ]
  },
  {
   "cell_type": "markdown",
   "metadata": {},
   "source": [
    "#### Afficher les données nettoyées"
   ]
  },
  {
   "cell_type": "code",
   "execution_count": null,
   "metadata": {},
   "outputs": [],
   "source": [
    "print(\"appercu des données nettoyées\")\n",
    "print(festivals.head())\n",
    "print(f\"Nombre de lignes paprès le nettoyage : {len(festivals)}\")"
   ]
  },
  {
   "cell_type": "code",
   "execution_count": null,
   "metadata": {},
   "outputs": [],
   "source": [
    "#### FILTRER LES COLONNES NECESSAIRES\n",
    "\n",
    "colonnes_utiles=[\n",
    "     'NomFestival', 'Envergure', 'Region', 'Departement', 'Commune',\n",
    "    'CodePostal', 'Discipline', 'PeriodeFestival', 'GeocodageXY'\n",
    "]\n",
    "\n",
    "## GARDER LES COLONNES UTILES POUR L'ANALYSE\n",
    "festivals_reduits=festivals[colonnes_utiles]"
   ]
  },
  {
   "cell_type": "code",
   "execution_count": null,
   "metadata": {},
   "outputs": [],
   "source": [
    "##APPERCU DES DONNEES REDUITES\n",
    "print(\"colonnes finales concervées\")\n",
    "print(festivals_reduits.columns)\n",
    "print(festivals_reduits.head())"
   ]
  },
  {
   "cell_type": "markdown",
   "metadata": {},
   "source": [
    "#### SAUVEGARDE DES DONNEES DANS UN NOUVEAU FICHIER"
   ]
  },
  {
   "cell_type": "code",
   "execution_count": null,
   "metadata": {},
   "outputs": [],
   "source": [
    "# Vérification des modifications\n",
    "print(festivals_reduits.describe())\n",
    "\n",
    "festivals_reduits.to_csv('./data/prepared/festi_clean.csv', index=False) "
   ]
  }
 ],
 "metadata": {
  "kernelspec": {
   "display_name": "Python 3",
   "language": "python",
   "name": "python3"
  },
  "language_info": {
   "codemirror_mode": {
    "name": "ipython",
    "version": 3
   },
   "file_extension": ".py",
   "mimetype": "text/x-python",
   "name": "python",
   "nbconvert_exporter": "python",
   "pygments_lexer": "ipython3",
   "version": "3.12.1"
  }
 },
 "nbformat": 4,
 "nbformat_minor": 2
}
