{
 "cells": [
  {
   "cell_type": "code",
   "execution_count": 11,
   "metadata": {},
   "outputs": [
    {
     "name": "stdout",
     "output_type": "stream",
     "text": [
      "/workspaces/projet-iadata\n"
     ]
    }
   ],
   "source": [
    "import os\n",
    "os.chdir('/workspaces/projet-iadata')  # Change le répertoire vers la racine\n",
    "print(os.getcwd())  # Vérif"
   ]
  },
  {
   "cell_type": "code",
   "execution_count": 19,
   "metadata": {},
   "outputs": [],
   "source": [
    "# Import des bibliothèques\n",
    "import pandas as pd\n",
    "from sklearn.linear_model import LinearRegression\n",
    "from sklearn.metrics import mean_absolute_error, mean_squared_error, r2_score\n",
    "import numpy as np\n",
    "import matplotlib.pyplot as plt"
   ]
  },
  {
   "cell_type": "markdown",
   "metadata": {},
   "source": [
    "#### charger les données préparées"
   ]
  },
  {
   "cell_type": "code",
   "execution_count": 13,
   "metadata": {},
   "outputs": [
    {
     "name": "stdout",
     "output_type": "stream",
     "text": [
      "Index(['ConsommationGazGRTgaz', 'ConsommationElectricite', 'temperature',\n",
      "       'humidity', 'pressure_sea_level', 'wind_speed', 'min_soil_temp',\n",
      "       'month_of_year_2', 'month_of_year_3', 'month_of_year_4',\n",
      "       'month_of_year_5', 'month_of_year_6', 'month_of_year_7',\n",
      "       'month_of_year_8', 'month_of_year_9', 'month_of_year_10',\n",
      "       'month_of_year_11', 'month_of_year_12'],\n",
      "      dtype='object')\n"
     ]
    }
   ],
   "source": [
    "file_path= './data/prepared/model_data.csv'\n",
    "data_model= pd.read_csv(file_path)\n",
    "\n",
    "#verif de scol disponibles \n",
    "print(data_model.columns)\n"
   ]
  },
  {
   "cell_type": "markdown",
   "metadata": {},
   "source": [
    "#### DEFINIR LA VARIABLE CIBLE & LES FEATURES\n",
    "##### cible = output Y  (col à predire)\n",
    "##### Features = inputs X  (cols à utisées pour la prédictions"
   ]
  },
  {
   "cell_type": "code",
   "execution_count": 14,
   "metadata": {},
   "outputs": [],
   "source": [
    "# cette col devient la cible\n",
    "y= data_model['ConsommationElectricite'] \n",
    "\n",
    "#features\n",
    "X= data_model.drop(columns=['ConsommationElectricite'])  # Supprime la cible des features"
   ]
  },
  {
   "cell_type": "code",
   "execution_count": 15,
   "metadata": {},
   "outputs": [
    {
     "name": "stdout",
     "output_type": "stream",
     "text": [
      "Features (X): (36070, 17)\n",
      "Cible (y): (36070,)\n"
     ]
    }
   ],
   "source": [
    "# Afficher les dimensions pour vérifier\n",
    "print(\"Features (X):\", X.shape)\n",
    "print(\"Cible (y):\", y.shape)"
   ]
  },
  {
   "cell_type": "markdown",
   "metadata": {},
   "source": [
    "##### VERIFICATION DES VALEURS MANQUANTES"
   ]
  },
  {
   "cell_type": "code",
   "execution_count": 16,
   "metadata": {},
   "outputs": [
    {
     "name": "stdout",
     "output_type": "stream",
     "text": [
      "Valeurs manquantes dans X : 0\n",
      "Valeurs manquantes dans y : 0\n"
     ]
    }
   ],
   "source": [
    "print(\"Valeurs manquantes dans X :\", X.isnull().sum().sum())\n",
    "print(\"Valeurs manquantes dans y :\", y.isnull().sum())\n"
   ]
  },
  {
   "cell_type": "markdown",
   "metadata": {},
   "source": [
    "## DIVISION DES DONNEES EN 80% 20%\n",
    "##### pour l'eval des performances une partie sera prise pour l'entrainement 80% (TRAIN SET ) & l'autre pour le test après l'entrainement 20% (TEST SET)"
   ]
  },
  {
   "cell_type": "code",
   "execution_count": 17,
   "metadata": {},
   "outputs": [],
   "source": [
    "from sklearn.model_selection import train_test_split\n",
    "#division \n",
    "\n",
    "X_train,X_test, y_train, y_test = train_test_split(X, y, test_size=0.2,random_state=42)\n"
   ]
  },
  {
   "cell_type": "markdown",
   "metadata": {},
   "source": [
    "#### AFFICHER LES DIMENSIONS"
   ]
  },
  {
   "cell_type": "code",
   "execution_count": null,
   "metadata": {},
   "outputs": [],
   "source": [
    "##### DIMENESION DE L ENSEMBLE DE L ENTRAINEMENT\n",
    "print( \"TRAIN SET : \", X_train , y_train)\n",
    "\n",
    "##### DIMENESION DE L ENSEMBLE DE TEST\n",
    "print( \" TEST SET : \", X_test , y_test)"
   ]
  },
  {
   "cell_type": "markdown",
   "metadata": {},
   "source": [
    "### Instancier & Entrainer le Modele"
   ]
  },
  {
   "cell_type": "code",
   "execution_count": 20,
   "metadata": {},
   "outputs": [
    {
     "name": "stdout",
     "output_type": "stream",
     "text": [
      "COEFFICIENTS :  [ 0.94837489  0.22060142 -0.05620156 -0.00333503  0.01863333 -0.04185469\n",
      " -0.12477381 -0.2812991  -0.31528765 -0.38758997 -0.33325397 -0.31555949\n",
      " -0.50834673 -0.38757029 -0.43473256 -0.37531959 -0.15195153]\n",
      "INTERCEPT :  0.2990154441955566\n"
     ]
    }
   ],
   "source": [
    "model = LinearRegression()\n",
    "\n",
    "#entrainer le model sur l'ensemble de l'entrainement\n",
    "model.fit(X_train, y_train)\n",
    "\n",
    "#COEF et interception du modele\n",
    "print(\"COEFFICIENTS : \", model.coef_)\n",
    "print(\"INTERCEPT : \" , model.intercept_)"
   ]
  },
  {
   "cell_type": "markdown",
   "metadata": {},
   "source": [
    "#### PREDICTIONS"
   ]
  },
  {
   "cell_type": "code",
   "execution_count": 24,
   "metadata": {},
   "outputs": [
    {
     "name": "stdout",
     "output_type": "stream",
     "text": [
      "Prédictions test : [-0.83895795  0.39182694  0.41202716 -0.07865675  0.86543087]\n",
      "Vérités terrain : [-0.40608935 -0.25457296  0.24174143  0.37805494  1.20780788]\n"
     ]
    }
   ],
   "source": [
    "# Prédire sur l'ensemble de l'entrainement\n",
    "y_pred_train = model.predict(X_train)\n",
    "\n",
    "\n",
    "# Prédire sur l'ensemble de test\n",
    "y_pred_test = model.predict(X_test)\n",
    "\n",
    "\n",
    "# Afficher quelques prédictions pour vérifier\n",
    "print(\"Prédictions test :\", y_pred_test[:5])\n",
    "print(\"Vérités terrain :\", y_test[:5].values)\n"
   ]
  },
  {
   "cell_type": "markdown",
   "metadata": {},
   "source": [
    "#### COEFFICIENT DE DETERMINATION"
   ]
  },
  {
   "cell_type": "code",
   "execution_count": 23,
   "metadata": {},
   "outputs": [
    {
     "name": "stdout",
     "output_type": "stream",
     "text": [
      "R² sur l'ensemble d'entraînement : 0.8176042327721097\n",
      "R² sur l'ensemble de test : 0.8271186753832005\n"
     ]
    }
   ],
   "source": [
    "#eval de R 2  sur le TRAIN SET\n",
    "r2_train= model.score(X_train, y_train)\n",
    "\n",
    "# eval de R 2 sur le TEST SET\n",
    "r2_test = model.score(X_test, y_test)\n",
    "\n",
    "# Afficher les résultats\n",
    "print(f\"R² sur l'ensemble d'entraînement : {r2_train}\")\n",
    "print(f\"R² sur l'ensemble de test : {r2_test}\")"
   ]
  },
  {
   "cell_type": "code",
   "execution_count": 26,
   "metadata": {},
   "outputs": [],
   "source": [
    "from sklearn.metrics import mean_squared_error as root_mean_squared_error \n",
    "# ROOT MEAN SQUARE ERROR \n",
    "#moyenne des erreurs au 2 entre les vraies valeurs et les valeurs predites\n",
    "#plus bas c'est , mieux c'est.\n",
    "rmse_train = root_mean_squared_error(y_train, y_pred_train)\n",
    "rmse_test = root_mean_squared_error(y_test, y_pred_test)"
   ]
  },
  {
   "cell_type": "code",
   "execution_count": 28,
   "metadata": {},
   "outputs": [
    {
     "name": "stdout",
     "output_type": "stream",
     "text": [
      "R² sur l'ensemble d'entraînement lineaire : 0.8176042327721097\n",
      "R² sur l'ensemble de test : 0.8271186753832005\n",
      "RMSE sur l'ensemble d'entraînement : 0.18256868386183456\n",
      "RMSE sur l'ensemble de test : 0.17222321136426835\n"
     ]
    }
   ],
   "source": [
    "print(f\"R² sur l'ensemble d'entraînement lineaire : {r2_train}\")\n",
    "print(f\"R² sur l'ensemble de test : {r2_test}\")\n",
    "print(f\"RMSE sur l'ensemble d'entraînement : {rmse_train}\")\n",
    "print(f\"RMSE sur l'ensemble de test : {rmse_test}\")"
   ]
  }
 ],
 "metadata": {
  "kernelspec": {
   "display_name": "Python 3",
   "language": "python",
   "name": "python3"
  },
  "language_info": {
   "codemirror_mode": {
    "name": "ipython",
    "version": 3
   },
   "file_extension": ".py",
   "mimetype": "text/x-python",
   "name": "python",
   "nbconvert_exporter": "python",
   "pygments_lexer": "ipython3",
   "version": "3.12.1"
  }
 },
 "nbformat": 4,
 "nbformat_minor": 2
}
