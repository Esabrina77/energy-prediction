{
 "cells": [
  {
   "cell_type": "code",
   "execution_count": 1,
   "metadata": {},
   "outputs": [
    {
     "name": "stdout",
     "output_type": "stream",
     "text": [
      "/workspaces/projet-iadata\n"
     ]
    }
   ],
   "source": [
    "import os\n",
    "os.chdir('/workspaces/projet-iadata')  # Change le répertoire vers la racine\n",
    "print(os.getcwd())  # Vérif"
   ]
  },
  {
   "cell_type": "code",
   "execution_count": 2,
   "metadata": {},
   "outputs": [],
   "source": [
    "# Import des bibliothèques\n",
    "import pandas as pd\n",
    "from sklearn.linear_model import LinearRegression\n",
    "from sklearn.metrics import mean_absolute_error, mean_squared_error, r2_score\n",
    "import numpy as np\n",
    "import matplotlib.pyplot as plt"
   ]
  },
  {
   "cell_type": "markdown",
   "metadata": {},
   "source": [
    "#### charger les données préparées"
   ]
  },
  {
   "cell_type": "code",
   "execution_count": 3,
   "metadata": {},
   "outputs": [
    {
     "name": "stdout",
     "output_type": "stream",
     "text": [
      "Index(['ConsommationGazGRTgaz', 'ConsommationElectricite', 'temperature',\n",
      "       'humidity', 'pressure_sea_level', 'wind_speed', 'min_soil_temp',\n",
      "       'month_of_year_2', 'month_of_year_3', 'month_of_year_4',\n",
      "       'month_of_year_5', 'month_of_year_6', 'month_of_year_7',\n",
      "       'month_of_year_8', 'month_of_year_9', 'month_of_year_10',\n",
      "       'month_of_year_11', 'month_of_year_12'],\n",
      "      dtype='object')\n"
     ]
    }
   ],
   "source": [
    "file_path= './data/prepared/model_data.csv'\n",
    "data_model= pd.read_csv(file_path)\n",
    "\n",
    "#verif de scol disponibles \n",
    "print(data_model.columns)\n"
   ]
  },
  {
   "cell_type": "markdown",
   "metadata": {},
   "source": [
    "#### DEFINIR LA VARIABLE CIBLE & LES FEATURES\n",
    "##### cible = output Y  (col à predire)\n",
    "##### Features = inputs X  (cols à utisées pour la prédictions"
   ]
  },
  {
   "cell_type": "code",
   "execution_count": 4,
   "metadata": {},
   "outputs": [],
   "source": [
    "# cette col devient la cible\n",
    "y= data_model['ConsommationElectricite'] \n",
    "\n",
    "#features\n",
    "X= data_model.drop(columns=['ConsommationElectricite'])  # Supprime la cible des features"
   ]
  },
  {
   "cell_type": "code",
   "execution_count": 5,
   "metadata": {},
   "outputs": [
    {
     "name": "stdout",
     "output_type": "stream",
     "text": [
      "Features (X): (36070, 17)\n",
      "Cible (y): (36070,)\n"
     ]
    }
   ],
   "source": [
    "# Afficher les dimensions pour vérifier\n",
    "print(\"Features (X):\", X.shape)\n",
    "print(\"Cible (y):\", y.shape)"
   ]
  },
  {
   "cell_type": "markdown",
   "metadata": {},
   "source": [
    "##### VERIFICATION DES VALEURS MANQUANTES"
   ]
  },
  {
   "cell_type": "code",
   "execution_count": 6,
   "metadata": {},
   "outputs": [
    {
     "name": "stdout",
     "output_type": "stream",
     "text": [
      "Valeurs manquantes dans X : 0\n",
      "Valeurs manquantes dans y : 0\n"
     ]
    }
   ],
   "source": [
    "print(\"Valeurs manquantes dans X :\", X.isnull().sum().sum())\n",
    "print(\"Valeurs manquantes dans y :\", y.isnull().sum())\n"
   ]
  },
  {
   "cell_type": "markdown",
   "metadata": {},
   "source": [
    "## DIVISION DES DONNEES EN 80% 20%\n",
    "##### pour l'eval des performances une partie sera prise pour l'entrainement 80% (TRAIN SET ) & l'autre pour le test après l'entrainement 20% (TEST SET)"
   ]
  },
  {
   "cell_type": "code",
   "execution_count": 7,
   "metadata": {},
   "outputs": [],
   "source": [
    "from sklearn.model_selection import train_test_split\n",
    "#division \n",
    "\n",
    "X_train,X_test, y_train, y_test = train_test_split(X, y, test_size=0.2,random_state=42)\n"
   ]
  },
  {
   "cell_type": "markdown",
   "metadata": {},
   "source": [
    "#### AFFICHER LES DIMENSIONS"
   ]
  },
  {
   "cell_type": "code",
   "execution_count": 8,
   "metadata": {},
   "outputs": [
    {
     "name": "stdout",
     "output_type": "stream",
     "text": [
      "TRAIN SET :         ConsommationGazGRTgaz  temperature  humidity  pressure_sea_level  \\\n",
      "3643                2.021203    -1.570193 -0.358957            1.731910   \n",
      "30378               1.502643    -0.834556  0.626670            1.146863   \n",
      "20854               0.697656    -0.085782 -0.413714            1.693755   \n",
      "26185              -0.424399    -0.716328  0.845698            1.057834   \n",
      "28264              -0.986106    -0.033236  0.133856           -0.506531   \n",
      "...                      ...          ...       ...                 ...   \n",
      "16850              -1.086267     0.846902  0.079099           -0.557404   \n",
      "6265                1.076384    -1.149829  0.845698           -0.455657   \n",
      "11284              -0.874913     1.306675 -1.289827            0.371040   \n",
      "860                 1.125048    -0.795147  1.174241           -0.595560   \n",
      "15795               0.302266    -0.335373  0.736184            1.439387   \n",
      "\n",
      "       wind_speed  min_soil_temp  month_of_year_2  month_of_year_3  \\\n",
      "3643    -0.188453      -1.395518            False            False   \n",
      "30378    0.512525       0.030880            False            False   \n",
      "20854   -0.559558      -0.448363            False             True   \n",
      "26185    0.347589       0.305853            False            False   \n",
      "28264   -1.178068       0.030880            False            False   \n",
      "...           ...            ...              ...              ...   \n",
      "16850    0.058951       1.779205            False            False   \n",
      "6265    -0.435856      -0.799161            False             True   \n",
      "11284    0.100185       0.691731            False            False   \n",
      "860     -1.013132      -0.571142            False            False   \n",
      "15795   -0.600792       0.042755            False            False   \n",
      "\n",
      "       month_of_year_4  month_of_year_5  month_of_year_6  month_of_year_7  \\\n",
      "3643             False            False            False            False   \n",
      "30378            False            False            False            False   \n",
      "20854            False            False            False            False   \n",
      "26185            False             True            False            False   \n",
      "28264            False            False            False            False   \n",
      "...                ...              ...              ...              ...   \n",
      "16850            False            False            False             True   \n",
      "6265             False            False            False            False   \n",
      "11284            False            False             True            False   \n",
      "860              False            False            False            False   \n",
      "15795            False            False            False            False   \n",
      "\n",
      "       month_of_year_8  month_of_year_9  month_of_year_10  month_of_year_11  \\\n",
      "3643             False            False             False             False   \n",
      "30378            False            False             False             False   \n",
      "20854            False            False             False             False   \n",
      "26185            False            False             False             False   \n",
      "28264            False             True             False             False   \n",
      "...                ...              ...               ...               ...   \n",
      "16850            False            False             False             False   \n",
      "6265             False            False             False             False   \n",
      "11284            False            False             False             False   \n",
      "860              False            False             False             False   \n",
      "15795            False            False             False             False   \n",
      "\n",
      "       month_of_year_12  \n",
      "3643              False  \n",
      "30378              True  \n",
      "20854             False  \n",
      "26185             False  \n",
      "28264             False  \n",
      "...                 ...  \n",
      "16850             False  \n",
      "6265              False  \n",
      "11284             False  \n",
      "860               False  \n",
      "15795              True  \n",
      "\n",
      "[28856 rows x 17 columns] 3643     1.884422\n",
      "30378    1.607353\n",
      "20854    0.765387\n",
      "26185   -1.014376\n",
      "28264   -1.375914\n",
      "           ...   \n",
      "16850   -1.274618\n",
      "6265     0.699878\n",
      "11284   -1.194248\n",
      "860      1.034085\n",
      "15795    0.385144\n",
      "Name: ConsommationElectricite, Length: 28856, dtype: float64\n",
      " TEST SET :         ConsommationGazGRTgaz  temperature  humidity  pressure_sea_level  \\\n",
      "28186              -1.014178     0.662992 -1.344584           -0.163134   \n",
      "12240               0.609132    -1.504511  1.174241            2.062589   \n",
      "12060               0.496050    -0.282827  0.790941            0.218419   \n",
      "14747               0.001066    -0.335373 -0.085172           -0.226726   \n",
      "27099               0.823962    -1.057874  0.790941            1.528415   \n",
      "...                      ...          ...       ...                 ...   \n",
      "9961                1.584063    -1.162965  1.064726            0.180264   \n",
      "25141              -0.608398    -0.466737  1.283755            0.727155   \n",
      "12114               0.728033    -0.755737  0.626670            1.197737   \n",
      "10333               0.425511    -0.834556  0.845698            0.116672   \n",
      "374                -0.238548    -0.177736  0.407642            0.243856   \n",
      "\n",
      "       wind_speed  min_soil_temp  month_of_year_2  month_of_year_3  \\\n",
      "28186   -0.518324       0.030880            False            False   \n",
      "12240   -1.013132      -1.518297             True            False   \n",
      "12060    1.625843      -0.027405            False             True   \n",
      "14747   -0.105985      -0.167724            False            False   \n",
      "27099    1.337205      -1.027180            False            False   \n",
      "...           ...            ...              ...              ...   \n",
      "9961     0.801163      -0.939480            False            False   \n",
      "25141   -1.178068      -0.465903            False            False   \n",
      "12114    0.430057      -0.448363            False             True   \n",
      "10333   -1.054366      -1.062259            False            False   \n",
      "374     -0.229687      -0.255424            False             True   \n",
      "\n",
      "       month_of_year_4  month_of_year_5  month_of_year_6  month_of_year_7  \\\n",
      "28186            False            False            False            False   \n",
      "12240            False            False            False            False   \n",
      "12060            False            False            False            False   \n",
      "14747             True            False            False            False   \n",
      "27099            False            False            False            False   \n",
      "...                ...              ...              ...              ...   \n",
      "9961             False            False            False            False   \n",
      "25141            False            False            False            False   \n",
      "12114            False            False            False            False   \n",
      "10333            False            False            False            False   \n",
      "374              False            False            False            False   \n",
      "\n",
      "       month_of_year_8  month_of_year_9  month_of_year_10  month_of_year_11  \\\n",
      "28186            False             True             False             False   \n",
      "12240            False            False             False             False   \n",
      "12060            False            False             False             False   \n",
      "14747            False            False             False             False   \n",
      "27099            False            False             False             False   \n",
      "...                ...              ...               ...               ...   \n",
      "9961             False            False             False             False   \n",
      "25141            False             True             False             False   \n",
      "12114            False            False             False             False   \n",
      "10333            False            False              True             False   \n",
      "374              False            False             False             False   \n",
      "\n",
      "       month_of_year_12  \n",
      "28186             False  \n",
      "12240             False  \n",
      "12060             False  \n",
      "14747             False  \n",
      "27099             False  \n",
      "...                 ...  \n",
      "9961               True  \n",
      "25141             False  \n",
      "12114             False  \n",
      "10333             False  \n",
      "374               False  \n",
      "\n",
      "[7214 rows x 17 columns] 28186   -0.406089\n",
      "12240   -0.254573\n",
      "12060    0.241741\n",
      "14747    0.378055\n",
      "27099    1.207808\n",
      "           ...   \n",
      "9961     1.917817\n",
      "25141   -1.415202\n",
      "12114    0.683735\n",
      "10333    0.148303\n",
      "374      0.192631\n",
      "Name: ConsommationElectricite, Length: 7214, dtype: float64\n"
     ]
    }
   ],
   "source": [
    "##### DIMENESION DE L ENSEMBLE DE L ENTRAINEMENT\n",
    "print( \"TRAIN SET : \", X_train , y_train)\n",
    "\n",
    "##### DIMENESION DE L ENSEMBLE DE TEST\n",
    "print( \" TEST SET : \", X_test , y_test)"
   ]
  },
  {
   "cell_type": "markdown",
   "metadata": {},
   "source": [
    "### Instancier & Entrainer le Modele"
   ]
  },
  {
   "cell_type": "code",
   "execution_count": 9,
   "metadata": {},
   "outputs": [
    {
     "name": "stdout",
     "output_type": "stream",
     "text": [
      "COEFFICIENTS :  [ 0.94837489  0.22060142 -0.05620156 -0.00333503  0.01863333 -0.04185469\n",
      " -0.12477381 -0.2812991  -0.31528765 -0.38758997 -0.33325397 -0.31555949\n",
      " -0.50834673 -0.38757029 -0.43473256 -0.37531959 -0.15195153]\n",
      "INTERCEPT :  0.2990154441955566\n"
     ]
    }
   ],
   "source": [
    "model = LinearRegression()\n",
    "\n",
    "#entrainer le model sur l'ensemble de l'entrainement\n",
    "model.fit(X_train, y_train)\n",
    "\n",
    "#COEF et interception du modele\n",
    "print(\"COEFFICIENTS : \", model.coef_)\n",
    "print(\"INTERCEPT : \" , model.intercept_)"
   ]
  },
  {
   "cell_type": "markdown",
   "metadata": {},
   "source": [
    "#### PREDICTIONS"
   ]
  },
  {
   "cell_type": "code",
   "execution_count": 10,
   "metadata": {},
   "outputs": [
    {
     "name": "stdout",
     "output_type": "stream",
     "text": [
      "Prédictions test : [-0.83895795  0.39182694  0.41202716 -0.07865675  0.86543087]\n",
      "Vérités terrain : [-0.40608935 -0.25457296  0.24174143  0.37805494  1.20780788]\n"
     ]
    }
   ],
   "source": [
    "# Prédire sur l'ensemble de l'entrainement\n",
    "y_pred_train = model.predict(X_train)\n",
    "\n",
    "\n",
    "# Prédire sur l'ensemble de test\n",
    "y_pred_test = model.predict(X_test)\n",
    "\n",
    "\n",
    "# Afficher quelques prédictions pour vérifier\n",
    "print(\"Prédictions test :\", y_pred_test[:5])\n",
    "print(\"Vérités terrain :\", y_test[:5].values)\n"
   ]
  },
  {
   "cell_type": "markdown",
   "metadata": {},
   "source": [
    "#### COEFFICIENT DE DETERMINATION"
   ]
  },
  {
   "cell_type": "code",
   "execution_count": 11,
   "metadata": {},
   "outputs": [
    {
     "name": "stdout",
     "output_type": "stream",
     "text": [
      "R² sur l'ensemble d'entraînement : 0.8176042327721097\n",
      "R² sur l'ensemble de test : 0.8271186753832005\n"
     ]
    }
   ],
   "source": [
    "#eval de R 2  sur le TRAIN SET\n",
    "r2_train= model.score(X_train, y_train)\n",
    "\n",
    "# eval de R 2 sur le TEST SET\n",
    "r2_test = model.score(X_test, y_test)\n",
    "\n",
    "# Afficher les résultats\n",
    "print(f\"R² sur l'ensemble d'entraînement : {r2_train}\")\n",
    "print(f\"R² sur l'ensemble de test : {r2_test}\")"
   ]
  },
  {
   "cell_type": "code",
   "execution_count": 12,
   "metadata": {},
   "outputs": [],
   "source": [
    "from sklearn.metrics import mean_squared_error as root_mean_squared_error \n",
    "# ROOT MEAN SQUARE ERROR \n",
    "#moyenne des erreurs au 2 entre les vraies valeurs et les valeurs predites\n",
    "#plus bas c'est , mieux c'est.\n",
    "rmse_train = root_mean_squared_error(y_train, y_pred_train)\n",
    "rmse_test = root_mean_squared_error(y_test, y_pred_test)"
   ]
  },
  {
   "cell_type": "code",
   "execution_count": 13,
   "metadata": {},
   "outputs": [
    {
     "name": "stdout",
     "output_type": "stream",
     "text": [
      "R² sur l'ensemble d'entraînement lineaire : 0.8176042327721097\n",
      "R² sur l'ensemble de test : 0.8271186753832005\n",
      "RMSE sur l'ensemble d'entraînement : 0.18256868386183456\n",
      "RMSE sur l'ensemble de test : 0.17222321136426835\n"
     ]
    }
   ],
   "source": [
    "print(f\"R² sur l'ensemble d'entraînement lineaire : {r2_train}\")\n",
    "print(f\"R² sur l'ensemble de test : {r2_test}\")\n",
    "print(f\"RMSE sur l'ensemble d'entraînement : {rmse_train}\")\n",
    "print(f\"RMSE sur l'ensemble de test : {rmse_test}\")"
   ]
  }
 ],
 "metadata": {
  "kernelspec": {
   "display_name": "Python 3",
   "language": "python",
   "name": "python3"
  },
  "language_info": {
   "codemirror_mode": {
    "name": "ipython",
    "version": 3
   },
   "file_extension": ".py",
   "mimetype": "text/x-python",
   "name": "python",
   "nbconvert_exporter": "python",
   "pygments_lexer": "ipython3",
   "version": "3.12.1"
  }
 },
 "nbformat": 4,
 "nbformat_minor": 2
}
