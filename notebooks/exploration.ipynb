{
 "cells": [
  {
   "cell_type": "code",
   "execution_count": null,
   "metadata": {},
   "outputs": [],
   "source": [
    "import pandas as pd\n",
    "print(\"Codespaces fonctionne !\")"
   ]
  },
  {
   "cell_type": "code",
   "execution_count": null,
   "metadata": {},
   "outputs": [],
   "source": [
    "import os\n",
    "os.chdir('/workspaces/projet-iadata')  # Change le répertoire vers la racine\n",
    "print(os.getcwd())  # Vérif\n",
    "#qlq soucis avec les chemins\n"
   ]
  },
  {
   "cell_type": "code",
   "execution_count": null,
   "metadata": {},
   "outputs": [],
   "source": [
    "#IMPORTER LES DATASET\n",
    "conso= pd.read_csv('./data/brut/consommation-quotidienne-brute.csv')\n",
    "\n",
    "print(conso.head()) #colums\n",
    "print(conso.info()) #infos de la columns\n",
    "print(conso.describe())\n",
    "#constat :le fichier semble mal séparé (toute la ligne est import sur une meme colonne)"
   ]
  },
  {
   "cell_type": "markdown",
   "metadata": {},
   "source": [
    "## NETTOYAGE DE DONNEES"
   ]
  },
  {
   "cell_type": "markdown",
   "metadata": {},
   "source": [
    "### VERIFIER LES SEPARATEURS"
   ]
  },
  {
   "cell_type": "code",
   "execution_count": null,
   "metadata": {},
   "outputs": [],
   "source": [
    "#use sep=\";\" pour mieux organisé le fichier\n",
    "conso=pd.read_csv('./data/brut/consommation-quotidienne-brute.csv', sep=';')\n",
    "\n",
    "#verif des colonnes\n",
    "print(conso.head())\n",
    "print(conso.info())\n",
    "print(conso.describe())"
   ]
  },
  {
   "cell_type": "markdown",
   "metadata": {},
   "source": [
    "##### RENOMMER LES COLONNNES"
   ]
  },
  {
   "cell_type": "code",
   "execution_count": null,
   "metadata": {},
   "outputs": [],
   "source": [
    "# conso.columns['Date','Heure','Consommation', 'source','Unité']\n",
    "# print(conso.head())\n",
    "print(conso.columns)"
   ]
  },
  {
   "cell_type": "code",
   "execution_count": null,
   "metadata": {},
   "outputs": [],
   "source": [
    "#certains noms sont trop long\n",
    "# Renommer les colonnes clés pour simplifier leur manipulation\n",
    "conso.rename(columns={\n",
    "    'Date - Heure': 'DateHeure',\n",
    "    'Date': 'Date',\n",
    "    'Heure': 'Heure',\n",
    "    'Consommation brute gaz totale (MW PCS 0°C)': 'ConsommationGazTotale',\n",
    "    'Consommation brute électricité (MW) - RTE': 'ConsommationElectricite',\n",
    "    'Consommation brute totale (MW)': 'ConsommationTotale',\n",
    "    'Consommation brute gaz (MW PCS 0°C) - GRTgaz': 'ConsommationGazGRTgaz',\n",
    "    'Consommation brute gaz (MW PCS 0°C) - Teréga': 'ConsommationGazTerega',\n",
    "    'Statut - GRTgaz': 'StatutGRTgaz',\n",
    "    'Statut - Teréga': 'StatutTerega',\n",
    "    'Statut - RTE': 'StatutRTE'\n",
    "}, inplace=True)\n",
    "\n",
    "\n",
    "# Vérif des nouvelles colonnes\n",
    "print(conso.columns)\n"
   ]
  },
  {
   "cell_type": "code",
   "execution_count": null,
   "metadata": {},
   "outputs": [],
   "source": [
    "# Calculer le pourcentage de valeurs nulles par colonne\n",
    "null_percentage = conso.isnull().mean() * 100\n",
    "\n",
    "# Afficher les colonnes avec leurs pourcentages\n",
    "print(null_percentage)"
   ]
  },
  {
   "cell_type": "markdown",
   "metadata": {},
   "source": [
    "##### Gerer les valeurs maquantes"
   ]
  },
  {
   "cell_type": "code",
   "execution_count": null,
   "metadata": {},
   "outputs": [],
   "source": [
    "# Calculer le pourcentage de valeurs nulles par colonne\n",
    "null_percentage = conso.isnull().mean() * 100\n",
    "\n",
    "# Afficher les colonnes avec leurs pourcentages\n",
    "print(null_percentage)"
   ]
  },
  {
   "cell_type": "code",
   "execution_count": null,
   "metadata": {},
   "outputs": [],
   "source": [
    "# uniquement les lignes contenant des valeurs NaN  dles colonnes importantes\n",
    "conso = conso.dropna(subset=['ConsommationGazTotale', 'ConsommationElectricite', 'ConsommationTotale'])\n",
    "print(conso.info())  # Vérif que NaN ont été supprimés\n"
   ]
  },
  {
   "cell_type": "markdown",
   "metadata": {},
   "source": [
    "##### colonnes inutiles"
   ]
  },
  {
   "cell_type": "code",
   "execution_count": null,
   "metadata": {},
   "outputs": [],
   "source": [
    "#drop les colonnes inutiles\n",
    "conso.drop(columns=['StatutGRTgaz', 'StatutTerega', 'StatutRTE'], inplace=True)\n",
    "print(conso.info())"
   ]
  },
  {
   "cell_type": "code",
   "execution_count": null,
   "metadata": {},
   "outputs": [],
   "source": [
    "#verif final\n",
    "\n",
    "print(conso.isnull().sum())"
   ]
  },
  {
   "cell_type": "markdown",
   "metadata": {},
   "source": [
    "##### DATA ABERRANTES"
   ]
  },
  {
   "cell_type": "code",
   "execution_count": null,
   "metadata": {},
   "outputs": [],
   "source": [
    "# Recalculer la consommation totale en sommant le gaz et l'électricité\n",
    "conso['ConsommationTotale'] = conso['ConsommationGazTotale'] + conso['ConsommationElectricite']\n",
    "\n",
    "# Vérifiez les premières lignes pour confirmer le recalcul\n",
    "print(conso[['ConsommationGazTotale', 'ConsommationElectricite', 'ConsommationTotale']])\n"
   ]
  },
  {
   "cell_type": "code",
   "execution_count": null,
   "metadata": {},
   "outputs": [],
   "source": [
    "#calcul de la médiane\n",
    "# Calculer la médiane pour chaque colonne concernée\n",
    "median_gaz = conso['ConsommationGazTotale'].median()\n",
    "median_elec = conso['ConsommationElectricite'].median()"
   ]
  },
  {
   "cell_type": "code",
   "execution_count": null,
   "metadata": {},
   "outputs": [],
   "source": [
    "# Moyenne et écart-type pour détect les aberrations\n",
    "#mean : moyenne\n",
    "#std : ecart-type \n",
    "mean_gaz = conso['ConsommationGazTotale'].mean()\n",
    "std_gaz = conso['ConsommationGazTotale'].std() \n",
    "\n",
    "mean_elec = conso['ConsommationElectricite'].mean()\n",
    "std_elec = conso['ConsommationElectricite'].std()\n"
   ]
  },
  {
   "cell_type": "code",
   "execution_count": null,
   "metadata": {},
   "outputs": [],
   "source": [
    "\n",
    "# Remplacement des valeurs aberrantes par la médiane\n",
    "conso.loc[\n",
    "    (conso['ConsommationGazTotale'] > mean_gaz + 3 * std_gaz) | \n",
    "    (conso['ConsommationGazTotale'] < mean_gaz - 3 * std_gaz),\n",
    "    'ConsommationGazTotale'\n",
    "] = median_gaz\n",
    "\n",
    "conso.loc[\n",
    "    (conso['ConsommationElectricite'] > mean_elec + 3 * std_elec) | \n",
    "    (conso['ConsommationElectricite'] < mean_elec - 3 * std_elec),\n",
    "    'ConsommationElectricite'\n",
    "] = median_elec"
   ]
  },
  {
   "cell_type": "code",
   "execution_count": null,
   "metadata": {},
   "outputs": [],
   "source": [
    "#A partir des nouvelles data\n",
    "# Recalculer la consommation totale en sommant le gaz et l'électricité\n",
    "conso['ConsommationTotale'] = conso['ConsommationGazTotale'] + conso['ConsommationElectricite']\n",
    "\n",
    "# Vérifiez les premières lignes pour confirmer le recalcul\n",
    "print(conso[['ConsommationGazTotale', 'ConsommationElectricite', 'ConsommationTotale']])"
   ]
  },
  {
   "cell_type": "markdown",
   "metadata": {},
   "source": [
    "SAUVEGARDE DES DATA CLEAN DANS UN NEW FILE"
   ]
  },
  {
   "cell_type": "code",
   "execution_count": null,
   "metadata": {},
   "outputs": [],
   "source": [
    "# Vérification des modifications\n",
    "print(conso.describe())\n",
    "\n",
    "conso.to_csv('./data/prepared/conso_clean.csv', index=False) "
   ]
  },
  {
   "cell_type": "code",
   "execution_count": null,
   "metadata": {},
   "outputs": [],
   "source": []
  }
 ],
 "metadata": {
  "kernelspec": {
   "display_name": "Python 3",
   "language": "python",
   "name": "python3"
  },
  "language_info": {
   "codemirror_mode": {
    "name": "ipython",
    "version": 3
   },
   "file_extension": ".py",
   "mimetype": "text/x-python",
   "name": "python",
   "nbconvert_exporter": "python",
   "pygments_lexer": "ipython3",
   "version": "3.12.1"
  }
 },
 "nbformat": 4,
 "nbformat_minor": 2
}
