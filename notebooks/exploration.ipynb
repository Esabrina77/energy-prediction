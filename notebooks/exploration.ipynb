{
 "cells": [
  {
   "cell_type": "code",
   "execution_count": 95,
   "metadata": {},
   "outputs": [
    {
     "name": "stdout",
     "output_type": "stream",
     "text": [
      "Codespaces fonctionne !\n"
     ]
    }
   ],
   "source": [
    "import pandas as pd\n",
    "print(\"Codespaces fonctionne !\")"
   ]
  },
  {
   "cell_type": "code",
   "execution_count": 96,
   "metadata": {},
   "outputs": [
    {
     "name": "stdout",
     "output_type": "stream",
     "text": [
      "/workspaces/projet-iadata\n"
     ]
    }
   ],
   "source": [
    "import os\n",
    "os.chdir('/workspaces/projet-iadata')  # Change le répertoire vers la racine\n",
    "print(os.getcwd())  # Vérif\n",
    "#qlq soucis avec les chemins\n"
   ]
  },
  {
   "cell_type": "code",
   "execution_count": 97,
   "metadata": {},
   "outputs": [
    {
     "name": "stdout",
     "output_type": "stream",
     "text": [
      "  Date - Heure;Date;Heure;Consommation brute gaz (MW PCS 0°C) - GRTgaz;Statut - GRTgaz;Consommation brute gaz (MW PCS 0°C) - Teréga;Statut - Teréga;Consommation brute gaz totale (MW PCS 0°C);Consommation brute électricité (MW) - RTE;Statut - RTE;Consommation brute totale (MW)\n",
      "0  2024-04-30T21:30:00+00:00;30/04/2024;23:30;;;;...                                                                                                                                                                                                                                \n",
      "1  2024-04-30T21:00:00+00:00;30/04/2024;23:00;225...                                                                                                                                                                                                                                \n",
      "2  2024-04-30T20:30:00+00:00;30/04/2024;22:30;;;;...                                                                                                                                                                                                                                \n",
      "3  2024-04-30T20:00:00+00:00;30/04/2024;22:00;242...                                                                                                                                                                                                                                \n",
      "4  2024-04-30T19:30:00+00:00;30/04/2024;21:30;;;;...                                                                                                                                                                                                                                \n",
      "<class 'pandas.core.frame.DataFrame'>\n",
      "RangeIndex: 216192 entries, 0 to 216191\n",
      "Data columns (total 1 columns):\n",
      " #   Column                                                                                                                                                                                                                                                                              Non-Null Count   Dtype \n",
      "---  ------                                                                                                                                                                                                                                                                              --------------   ----- \n",
      " 0   Date - Heure;Date;Heure;Consommation brute gaz (MW PCS 0°C) - GRTgaz;Statut - GRTgaz;Consommation brute gaz (MW PCS 0°C) - Teréga;Statut - Teréga;Consommation brute gaz totale (MW PCS 0°C);Consommation brute électricité (MW) - RTE;Statut - RTE;Consommation brute totale (MW)  216192 non-null  object\n",
      "dtypes: object(1)\n",
      "memory usage: 1.6+ MB\n",
      "None\n",
      "       Date - Heure;Date;Heure;Consommation brute gaz (MW PCS 0°C) - GRTgaz;Statut - GRTgaz;Consommation brute gaz (MW PCS 0°C) - Teréga;Statut - Teréga;Consommation brute gaz totale (MW PCS 0°C);Consommation brute électricité (MW) - RTE;Statut - RTE;Consommation brute totale (MW)\n",
      "count                                              216192                                                                                                                                                                                                                                \n",
      "unique                                             216192                                                                                                                                                                                                                                \n",
      "top     2012-01-01T18:30:00+00:00;01/01/2012;19:30;;;;...                                                                                                                                                                                                                                \n",
      "freq                                                    1                                                                                                                                                                                                                                \n"
     ]
    }
   ],
   "source": [
    "#IMPORTER LES DATASET\n",
    "conso= pd.read_csv('./data/brut/consommation-quotidienne-brute.csv')\n",
    "\n",
    "print(conso.head()) #colums\n",
    "print(conso.info()) #infos de la columns\n",
    "print(conso.describe())\n",
    "#constat :le fichier semble mal séparé (toute la ligne est import sur une meme colonne)"
   ]
  },
  {
   "cell_type": "markdown",
   "metadata": {},
   "source": [
    "## NETTOYAGE DE DONNEES"
   ]
  },
  {
   "cell_type": "markdown",
   "metadata": {},
   "source": [
    "### VERIFIER LES SEPARATEURS"
   ]
  },
  {
   "cell_type": "code",
   "execution_count": 98,
   "metadata": {},
   "outputs": [
    {
     "name": "stdout",
     "output_type": "stream",
     "text": [
      "                Date - Heure        Date  Heure  \\\n",
      "0  2024-04-30T21:30:00+00:00  30/04/2024  23:30   \n",
      "1  2024-04-30T21:00:00+00:00  30/04/2024  23:00   \n",
      "2  2024-04-30T20:30:00+00:00  30/04/2024  22:30   \n",
      "3  2024-04-30T20:00:00+00:00  30/04/2024  22:00   \n",
      "4  2024-04-30T19:30:00+00:00  30/04/2024  21:30   \n",
      "\n",
      "   Consommation brute gaz (MW PCS 0°C) - GRTgaz Statut - GRTgaz  \\\n",
      "0                                           NaN             NaN   \n",
      "1                                       22574.0       Définitif   \n",
      "2                                           NaN             NaN   \n",
      "3                                       24265.0       Définitif   \n",
      "4                                           NaN             NaN   \n",
      "\n",
      "   Consommation brute gaz (MW PCS 0°C) - Teréga Statut - Teréga  \\\n",
      "0                                           NaN             NaN   \n",
      "1                                        1562.0       Définitif   \n",
      "2                                           NaN             NaN   \n",
      "3                                        1758.0       Définitif   \n",
      "4                                           NaN             NaN   \n",
      "\n",
      "   Consommation brute gaz totale (MW PCS 0°C)  \\\n",
      "0                                         NaN   \n",
      "1                                     24136.0   \n",
      "2                                         NaN   \n",
      "3                                     26023.0   \n",
      "4                                         NaN   \n",
      "\n",
      "   Consommation brute électricité (MW) - RTE Statut - RTE  \\\n",
      "0                                      45715    Consolidé   \n",
      "1                                      46363    Consolidé   \n",
      "2                                      46988    Consolidé   \n",
      "3                                      46046    Consolidé   \n",
      "4                                      45622    Consolidé   \n",
      "\n",
      "   Consommation brute totale (MW)  \n",
      "0                             NaN  \n",
      "1                         70499.0  \n",
      "2                             NaN  \n",
      "3                         72069.0  \n",
      "4                             NaN  \n",
      "<class 'pandas.core.frame.DataFrame'>\n",
      "RangeIndex: 216192 entries, 0 to 216191\n",
      "Data columns (total 11 columns):\n",
      " #   Column                                        Non-Null Count   Dtype  \n",
      "---  ------                                        --------------   -----  \n",
      " 0   Date - Heure                                  216192 non-null  object \n",
      " 1   Date                                          216192 non-null  object \n",
      " 2   Heure                                         216192 non-null  object \n",
      " 3   Consommation brute gaz (MW PCS 0°C) - GRTgaz  108096 non-null  float64\n",
      " 4   Statut - GRTgaz                               108096 non-null  object \n",
      " 5   Consommation brute gaz (MW PCS 0°C) - Teréga  108093 non-null  float64\n",
      " 6   Statut - Teréga                               108096 non-null  object \n",
      " 7   Consommation brute gaz totale (MW PCS 0°C)    108092 non-null  float64\n",
      " 8   Consommation brute électricité (MW) - RTE     216192 non-null  int64  \n",
      " 9   Statut - RTE                                  216192 non-null  object \n",
      " 10  Consommation brute totale (MW)                108092 non-null  float64\n",
      "dtypes: float64(4), int64(1), object(6)\n",
      "memory usage: 18.1+ MB\n",
      "None\n",
      "       Consommation brute gaz (MW PCS 0°C) - GRTgaz  \\\n",
      "count                                 108096.000000   \n",
      "mean                                   49333.249574   \n",
      "std                                    26434.969167   \n",
      "min                                      719.000000   \n",
      "25%                                    26537.000000   \n",
      "50%                                    42275.500000   \n",
      "75%                                    68970.250000   \n",
      "max                                   296157.000000   \n",
      "\n",
      "       Consommation brute gaz (MW PCS 0°C) - Teréga  \\\n",
      "count                                 108093.000000   \n",
      "mean                                    3128.139195   \n",
      "std                                     2094.168803   \n",
      "min                                      153.000000   \n",
      "25%                                     1350.000000   \n",
      "50%                                     2454.000000   \n",
      "75%                                     4557.000000   \n",
      "max                                    13621.000000   \n",
      "\n",
      "       Consommation brute gaz totale (MW PCS 0°C)  \\\n",
      "count                               108092.000000   \n",
      "mean                                 52460.671696   \n",
      "std                                  28453.019058   \n",
      "min                                   1877.000000   \n",
      "25%                                  27908.000000   \n",
      "50%                                  44746.500000   \n",
      "75%                                  73599.250000   \n",
      "max                                 297703.000000   \n",
      "\n",
      "       Consommation brute électricité (MW) - RTE  \\\n",
      "count                              216192.000000   \n",
      "mean                                53484.576270   \n",
      "std                                 11855.939799   \n",
      "min                                 28738.000000   \n",
      "25%                                 44508.750000   \n",
      "50%                                 51781.000000   \n",
      "75%                                 61430.000000   \n",
      "max                                101866.000000   \n",
      "\n",
      "       Consommation brute totale (MW)  \n",
      "count                   108092.000000  \n",
      "mean                    105947.625847  \n",
      "std                      39439.383524  \n",
      "min                      42928.000000  \n",
      "25%                      73548.000000  \n",
      "50%                      94968.000000  \n",
      "75%                     134876.750000  \n",
      "max                     346267.000000  \n"
     ]
    }
   ],
   "source": [
    "#use sep=\";\" pour mieux organisé le fichier\n",
    "conso=pd.read_csv('./data/brut/consommation-quotidienne-brute.csv', sep=';')\n",
    "\n",
    "#verif des colonnes\n",
    "print(conso.head())\n",
    "print(conso.info())\n",
    "print(conso.describe())"
   ]
  },
  {
   "cell_type": "markdown",
   "metadata": {},
   "source": [
    "##### RENOMMER LES COLONNNES"
   ]
  },
  {
   "cell_type": "code",
   "execution_count": 99,
   "metadata": {},
   "outputs": [
    {
     "name": "stdout",
     "output_type": "stream",
     "text": [
      "Index(['Date - Heure', 'Date', 'Heure',\n",
      "       'Consommation brute gaz (MW PCS 0°C) - GRTgaz', 'Statut - GRTgaz',\n",
      "       'Consommation brute gaz (MW PCS 0°C) - Teréga', 'Statut - Teréga',\n",
      "       'Consommation brute gaz totale (MW PCS 0°C)',\n",
      "       'Consommation brute électricité (MW) - RTE', 'Statut - RTE',\n",
      "       'Consommation brute totale (MW)'],\n",
      "      dtype='object')\n"
     ]
    }
   ],
   "source": [
    "# conso.columns['Date','Heure','Consommation', 'source','Unité']\n",
    "# print(conso.head())\n",
    "print(conso.columns)\n"
   ]
  },
  {
   "cell_type": "code",
   "execution_count": 100,
   "metadata": {},
   "outputs": [
    {
     "name": "stdout",
     "output_type": "stream",
     "text": [
      "Index(['DateHeure', 'Date', 'Heure', 'ConsommationGazGRTgaz', 'StatutGRTgaz',\n",
      "       'ConsommationGazTerega', 'StatutTerega', 'ConsommationGazTotale',\n",
      "       'ConsommationElectricite', 'StatutRTE', 'ConsommationTotale'],\n",
      "      dtype='object')\n"
     ]
    }
   ],
   "source": [
    "#certains noms sont trop long\n",
    "# Renommer les colonnes clés pour simplifier leur manipulation\n",
    "conso.rename(columns={\n",
    "    'Date - Heure': 'DateHeure',\n",
    "    'Date': 'Date',\n",
    "    'Heure': 'Heure',\n",
    "    'Consommation brute gaz totale (MW PCS 0°C)': 'ConsommationGazTotale',\n",
    "    'Consommation brute électricité (MW) - RTE': 'ConsommationElectricite',\n",
    "    'Consommation brute totale (MW)': 'ConsommationTotale',\n",
    "    'Consommation brute gaz (MW PCS 0°C) - GRTgaz': 'ConsommationGazGRTgaz',\n",
    "    'Consommation brute gaz (MW PCS 0°C) - Teréga': 'ConsommationGazTerega',\n",
    "    'Statut - GRTgaz': 'StatutGRTgaz',\n",
    "    'Statut - Teréga': 'StatutTerega',\n",
    "    'Statut - RTE': 'StatutRTE'\n",
    "}, inplace=True)\n",
    "\n",
    "\n",
    "# Vérif des nouvelles colonnes\n",
    "print(conso.columns)\n"
   ]
  },
  {
   "cell_type": "code",
   "execution_count": 101,
   "metadata": {},
   "outputs": [
    {
     "name": "stdout",
     "output_type": "stream",
     "text": [
      "DateHeure                   0.000000\n",
      "Date                        0.000000\n",
      "Heure                       0.000000\n",
      "ConsommationGazGRTgaz      50.000000\n",
      "StatutGRTgaz               50.000000\n",
      "ConsommationGazTerega      50.001388\n",
      "StatutTerega               50.000000\n",
      "ConsommationGazTotale      50.001850\n",
      "ConsommationElectricite     0.000000\n",
      "StatutRTE                   0.000000\n",
      "ConsommationTotale         50.001850\n",
      "dtype: float64\n"
     ]
    }
   ],
   "source": [
    "# Calculer le pourcentage de valeurs nulles par colonne\n",
    "null_percentage = conso.isnull().mean() * 100\n",
    "\n",
    "# Afficher les colonnes avec leurs pourcentages\n",
    "print(null_percentage)"
   ]
  },
  {
   "cell_type": "markdown",
   "metadata": {},
   "source": [
    "##### Gerer les valeurs maquantes"
   ]
  },
  {
   "cell_type": "code",
   "execution_count": 102,
   "metadata": {},
   "outputs": [
    {
     "name": "stdout",
     "output_type": "stream",
     "text": [
      "DateHeure                   0.000000\n",
      "Date                        0.000000\n",
      "Heure                       0.000000\n",
      "ConsommationGazGRTgaz      50.000000\n",
      "StatutGRTgaz               50.000000\n",
      "ConsommationGazTerega      50.001388\n",
      "StatutTerega               50.000000\n",
      "ConsommationGazTotale      50.001850\n",
      "ConsommationElectricite     0.000000\n",
      "StatutRTE                   0.000000\n",
      "ConsommationTotale         50.001850\n",
      "dtype: float64\n"
     ]
    }
   ],
   "source": [
    "# Calculer le pourcentage de valeurs nulles par colonne\n",
    "null_percentage = conso.isnull().mean() * 100\n",
    "\n",
    "# Afficher les colonnes avec leurs pourcentages\n",
    "print(null_percentage)"
   ]
  },
  {
   "cell_type": "code",
   "execution_count": 103,
   "metadata": {},
   "outputs": [
    {
     "name": "stdout",
     "output_type": "stream",
     "text": [
      "<class 'pandas.core.frame.DataFrame'>\n",
      "Index: 108092 entries, 1 to 216191\n",
      "Data columns (total 11 columns):\n",
      " #   Column                   Non-Null Count   Dtype  \n",
      "---  ------                   --------------   -----  \n",
      " 0   DateHeure                108092 non-null  object \n",
      " 1   Date                     108092 non-null  object \n",
      " 2   Heure                    108092 non-null  object \n",
      " 3   ConsommationGazGRTgaz    108092 non-null  float64\n",
      " 4   StatutGRTgaz             108044 non-null  object \n",
      " 5   ConsommationGazTerega    108092 non-null  float64\n",
      " 6   StatutTerega             107996 non-null  object \n",
      " 7   ConsommationGazTotale    108092 non-null  float64\n",
      " 8   ConsommationElectricite  108092 non-null  int64  \n",
      " 9   StatutRTE                108092 non-null  object \n",
      " 10  ConsommationTotale       108092 non-null  float64\n",
      "dtypes: float64(4), int64(1), object(6)\n",
      "memory usage: 9.9+ MB\n",
      "None\n"
     ]
    }
   ],
   "source": [
    "# uniquement les lignes contenant des valeurs NaN  dles colonnes importantes\n",
    "conso = conso.dropna(subset=['ConsommationGazTotale', 'ConsommationElectricite', 'ConsommationTotale'])\n",
    "print(conso.info())  # Vérif que NaN ont été supprimés\n"
   ]
  },
  {
   "cell_type": "markdown",
   "metadata": {},
   "source": [
    "##### colonnes inutiles"
   ]
  },
  {
   "cell_type": "code",
   "execution_count": 104,
   "metadata": {},
   "outputs": [
    {
     "name": "stdout",
     "output_type": "stream",
     "text": [
      "<class 'pandas.core.frame.DataFrame'>\n",
      "Index: 108092 entries, 1 to 216191\n",
      "Data columns (total 8 columns):\n",
      " #   Column                   Non-Null Count   Dtype  \n",
      "---  ------                   --------------   -----  \n",
      " 0   DateHeure                108092 non-null  object \n",
      " 1   Date                     108092 non-null  object \n",
      " 2   Heure                    108092 non-null  object \n",
      " 3   ConsommationGazGRTgaz    108092 non-null  float64\n",
      " 4   ConsommationGazTerega    108092 non-null  float64\n",
      " 5   ConsommationGazTotale    108092 non-null  float64\n",
      " 6   ConsommationElectricite  108092 non-null  int64  \n",
      " 7   ConsommationTotale       108092 non-null  float64\n",
      "dtypes: float64(4), int64(1), object(3)\n",
      "memory usage: 7.4+ MB\n",
      "None\n"
     ]
    }
   ],
   "source": [
    "#drop les colonnes inutiles\n",
    "conso.drop(columns=['StatutGRTgaz', 'StatutTerega', 'StatutRTE'], inplace=True)\n",
    "print(conso.info())"
   ]
  },
  {
   "cell_type": "code",
   "execution_count": 105,
   "metadata": {},
   "outputs": [
    {
     "name": "stdout",
     "output_type": "stream",
     "text": [
      "DateHeure                  0\n",
      "Date                       0\n",
      "Heure                      0\n",
      "ConsommationGazGRTgaz      0\n",
      "ConsommationGazTerega      0\n",
      "ConsommationGazTotale      0\n",
      "ConsommationElectricite    0\n",
      "ConsommationTotale         0\n",
      "dtype: int64\n"
     ]
    }
   ],
   "source": [
    "#verif final\n",
    "\n",
    "print(conso.isnull().sum())"
   ]
  },
  {
   "cell_type": "markdown",
   "metadata": {},
   "source": [
    "##### DATA ABERRANTES"
   ]
  },
  {
   "cell_type": "code",
   "execution_count": 106,
   "metadata": {},
   "outputs": [
    {
     "name": "stdout",
     "output_type": "stream",
     "text": [
      "        ConsommationGazTotale  ConsommationElectricite  ConsommationTotale\n",
      "1                     24136.0                    46363             70499.0\n",
      "3                     26023.0                    46046             72069.0\n",
      "5                     28137.0                    46335             74472.0\n",
      "7                     29044.0                    47090             76134.0\n",
      "9                     28886.0                    48479             77365.0\n",
      "...                       ...                      ...                 ...\n",
      "216183                57082.0                    49160            106242.0\n",
      "216185                56048.0                    52496            108544.0\n",
      "216187                55465.0                    55531            110996.0\n",
      "216189                55444.0                    56230            111674.0\n",
      "216191                55353.0                    59610            114963.0\n",
      "\n",
      "[108092 rows x 3 columns]\n"
     ]
    }
   ],
   "source": [
    "# Recalculer la consommation totale en sommant le gaz et l'électricité\n",
    "conso['ConsommationTotale'] = conso['ConsommationGazTotale'] + conso['ConsommationElectricite']\n",
    "\n",
    "# Vérifiez les premières lignes pour confirmer le recalcul\n",
    "print(conso[['ConsommationGazTotale', 'ConsommationElectricite', 'ConsommationTotale']])\n"
   ]
  },
  {
   "cell_type": "code",
   "execution_count": 107,
   "metadata": {},
   "outputs": [],
   "source": [
    "#calcul de la médiane\n",
    "# Calculer la médiane pour chaque colonne concernée\n",
    "median_gaz = conso['ConsommationGazTotale'].median()\n",
    "median_elec = conso['ConsommationElectricite'].median()"
   ]
  },
  {
   "cell_type": "code",
   "execution_count": 108,
   "metadata": {},
   "outputs": [],
   "source": [
    "# Moyenne et écart-type pour détect les aberrations\n",
    "#mean : moyenne\n",
    "#std : ecart-type \n",
    "mean_gaz = conso['ConsommationGazTotale'].mean()\n",
    "std_gaz = conso['ConsommationGazTotale'].std() \n",
    "\n",
    "mean_elec = conso['ConsommationElectricite'].mean()\n",
    "std_elec = conso['ConsommationElectricite'].std()\n"
   ]
  },
  {
   "cell_type": "code",
   "execution_count": 109,
   "metadata": {},
   "outputs": [],
   "source": [
    "\n",
    "# Remplacement des valeurs aberrantes par la médiane\n",
    "conso.loc[\n",
    "    (conso['ConsommationGazTotale'] > mean_gaz + 3 * std_gaz) | \n",
    "    (conso['ConsommationGazTotale'] < mean_gaz - 3 * std_gaz),\n",
    "    'ConsommationGazTotale'\n",
    "] = median_gaz\n",
    "\n",
    "conso.loc[\n",
    "    (conso['ConsommationElectricite'] > mean_elec + 3 * std_elec) | \n",
    "    (conso['ConsommationElectricite'] < mean_elec - 3 * std_elec),\n",
    "    'ConsommationElectricite'\n",
    "] = median_elec"
   ]
  },
  {
   "cell_type": "code",
   "execution_count": 110,
   "metadata": {},
   "outputs": [
    {
     "name": "stdout",
     "output_type": "stream",
     "text": [
      "        ConsommationGazTotale  ConsommationElectricite  ConsommationTotale\n",
      "1                     24136.0                    46363             70499.0\n",
      "3                     26023.0                    46046             72069.0\n",
      "5                     28137.0                    46335             74472.0\n",
      "7                     29044.0                    47090             76134.0\n",
      "9                     28886.0                    48479             77365.0\n",
      "...                       ...                      ...                 ...\n",
      "216183                57082.0                    49160            106242.0\n",
      "216185                56048.0                    52496            108544.0\n",
      "216187                55465.0                    55531            110996.0\n",
      "216189                55444.0                    56230            111674.0\n",
      "216191                55353.0                    59610            114963.0\n",
      "\n",
      "[108092 rows x 3 columns]\n"
     ]
    }
   ],
   "source": [
    "#A partir des nouvelles data\n",
    "# Recalculer la consommation totale en sommant le gaz et l'électricité\n",
    "conso['ConsommationTotale'] = conso['ConsommationGazTotale'] + conso['ConsommationElectricite']\n",
    "\n",
    "# Vérifiez les premières lignes pour confirmer le recalcul\n",
    "print(conso[['ConsommationGazTotale', 'ConsommationElectricite', 'ConsommationTotale']])"
   ]
  },
  {
   "cell_type": "markdown",
   "metadata": {},
   "source": [
    "SAUVEGARDE DES DATA CLEAN DANS UN NEW FILE"
   ]
  },
  {
   "cell_type": "code",
   "execution_count": 111,
   "metadata": {},
   "outputs": [
    {
     "name": "stdout",
     "output_type": "stream",
     "text": [
      "       ConsommationGazGRTgaz  ConsommationGazTerega  ConsommationGazTotale  \\\n",
      "count          108092.000000          108092.000000          108092.000000   \n",
      "mean            49332.526070            3128.145626           52168.161034   \n",
      "std             26435.145296            2094.177422           27985.778979   \n",
      "min               719.000000             153.000000            1877.000000   \n",
      "25%             26537.000000            1350.000000           27908.000000   \n",
      "50%             42275.000000            2454.000000           44746.250000   \n",
      "75%             68969.250000            4557.250000           73249.000000   \n",
      "max            296157.000000           13621.000000          137818.000000   \n",
      "\n",
      "       ConsommationElectricite  ConsommationTotale  \n",
      "count            108092.000000       108092.000000  \n",
      "mean              53396.696166       105564.857200  \n",
      "std               11727.652923        38754.452701  \n",
      "min               28738.000000        42928.000000  \n",
      "25%               44501.000000        73548.000000  \n",
      "50%               51784.000000        94961.500000  \n",
      "75%               61314.000000       134412.000000  \n",
      "max               89063.000000       225721.000000  \n"
     ]
    }
   ],
   "source": [
    "# Vérification des modifications\n",
    "print(conso.describe())\n",
    "\n",
    "conso.to_csv('./data/prepared/conso_clean.csv', index=False) "
   ]
  },
  {
   "cell_type": "code",
   "execution_count": null,
   "metadata": {},
   "outputs": [],
   "source": []
  }
 ],
 "metadata": {
  "kernelspec": {
   "display_name": "Python 3",
   "language": "python",
   "name": "python3"
  },
  "language_info": {
   "codemirror_mode": {
    "name": "ipython",
    "version": 3
   },
   "file_extension": ".py",
   "mimetype": "text/x-python",
   "name": "python",
   "nbconvert_exporter": "python",
   "pygments_lexer": "ipython3",
   "version": "3.12.1"
  }
 },
 "nbformat": 4,
 "nbformat_minor": 2
}
