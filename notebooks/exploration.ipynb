{
 "cells": [
  {
   "cell_type": "code",
   "execution_count": 41,
   "metadata": {},
   "outputs": [
    {
     "name": "stdout",
     "output_type": "stream",
     "text": [
      "Codespaces fonctionne !\n"
     ]
    }
   ],
   "source": [
    "import pandas as pd\n",
    "print(\"Codespaces fonctionne !\")"
   ]
  },
  {
   "cell_type": "code",
   "execution_count": 42,
   "metadata": {},
   "outputs": [
    {
     "name": "stdout",
     "output_type": "stream",
     "text": [
      "/workspaces/projet-iadata\n"
     ]
    }
   ],
   "source": [
    "import os\n",
    "os.chdir('/workspaces/projet-iadata')  # Change le répertoire vers la racine\n",
    "print(os.getcwd())  # Vérif\n",
    "#qlq soucis avec les chemins\n"
   ]
  },
  {
   "cell_type": "code",
   "execution_count": 43,
   "metadata": {},
   "outputs": [
    {
     "name": "stdout",
     "output_type": "stream",
     "text": [
      "  Date - Heure;Date;Heure;Consommation brute gaz (MW PCS 0°C) - GRTgaz;Statut - GRTgaz;Consommation brute gaz (MW PCS 0°C) - Teréga;Statut - Teréga;Consommation brute gaz totale (MW PCS 0°C);Consommation brute électricité (MW) - RTE;Statut - RTE;Consommation brute totale (MW)\n",
      "0  2024-04-30T21:30:00+00:00;30/04/2024;23:30;;;;...                                                                                                                                                                                                                                \n",
      "1  2024-04-30T21:00:00+00:00;30/04/2024;23:00;225...                                                                                                                                                                                                                                \n",
      "2  2024-04-30T20:30:00+00:00;30/04/2024;22:30;;;;...                                                                                                                                                                                                                                \n",
      "3  2024-04-30T20:00:00+00:00;30/04/2024;22:00;242...                                                                                                                                                                                                                                \n",
      "4  2024-04-30T19:30:00+00:00;30/04/2024;21:30;;;;...                                                                                                                                                                                                                                \n",
      "<class 'pandas.core.frame.DataFrame'>\n",
      "RangeIndex: 216192 entries, 0 to 216191\n",
      "Data columns (total 1 columns):\n",
      " #   Column                                                                                                                                                                                                                                                                              Non-Null Count   Dtype \n",
      "---  ------                                                                                                                                                                                                                                                                              --------------   ----- \n",
      " 0   Date - Heure;Date;Heure;Consommation brute gaz (MW PCS 0°C) - GRTgaz;Statut - GRTgaz;Consommation brute gaz (MW PCS 0°C) - Teréga;Statut - Teréga;Consommation brute gaz totale (MW PCS 0°C);Consommation brute électricité (MW) - RTE;Statut - RTE;Consommation brute totale (MW)  216192 non-null  object\n",
      "dtypes: object(1)\n",
      "memory usage: 1.6+ MB\n",
      "None\n",
      "       Date - Heure;Date;Heure;Consommation brute gaz (MW PCS 0°C) - GRTgaz;Statut - GRTgaz;Consommation brute gaz (MW PCS 0°C) - Teréga;Statut - Teréga;Consommation brute gaz totale (MW PCS 0°C);Consommation brute électricité (MW) - RTE;Statut - RTE;Consommation brute totale (MW)\n",
      "count                                              216192                                                                                                                                                                                                                                \n",
      "unique                                             216192                                                                                                                                                                                                                                \n",
      "top     2012-01-01T18:30:00+00:00;01/01/2012;19:30;;;;...                                                                                                                                                                                                                                \n",
      "freq                                                    1                                                                                                                                                                                                                                \n"
     ]
    }
   ],
   "source": [
    "#IMPORTER LES DATASET\n",
    "conso= pd.read_csv('./data/brut/consommation-quotidienne-brute.csv')\n",
    "\n",
    "print(conso.head()) #colums\n",
    "print(conso.info()) #infos de la columns\n",
    "print(conso.describe())\n",
    "#constat le fichier semble mal séparé (toute la ligne est import sur une meme colonne)"
   ]
  },
  {
   "cell_type": "markdown",
   "metadata": {},
   "source": [
    "## NETTOYAGE DE DONNEES"
   ]
  },
  {
   "cell_type": "markdown",
   "metadata": {},
   "source": [
    "### VERIFIER LES SEPARATEURS"
   ]
  },
  {
   "cell_type": "code",
   "execution_count": 44,
   "metadata": {},
   "outputs": [
    {
     "name": "stdout",
     "output_type": "stream",
     "text": [
      "                Date - Heure        Date  Heure  \\\n",
      "0  2024-04-30T21:30:00+00:00  30/04/2024  23:30   \n",
      "1  2024-04-30T21:00:00+00:00  30/04/2024  23:00   \n",
      "2  2024-04-30T20:30:00+00:00  30/04/2024  22:30   \n",
      "3  2024-04-30T20:00:00+00:00  30/04/2024  22:00   \n",
      "4  2024-04-30T19:30:00+00:00  30/04/2024  21:30   \n",
      "\n",
      "   Consommation brute gaz (MW PCS 0°C) - GRTgaz Statut - GRTgaz  \\\n",
      "0                                           NaN             NaN   \n",
      "1                                       22574.0       Définitif   \n",
      "2                                           NaN             NaN   \n",
      "3                                       24265.0       Définitif   \n",
      "4                                           NaN             NaN   \n",
      "\n",
      "   Consommation brute gaz (MW PCS 0°C) - Teréga Statut - Teréga  \\\n",
      "0                                           NaN             NaN   \n",
      "1                                        1562.0       Définitif   \n",
      "2                                           NaN             NaN   \n",
      "3                                        1758.0       Définitif   \n",
      "4                                           NaN             NaN   \n",
      "\n",
      "   Consommation brute gaz totale (MW PCS 0°C)  \\\n",
      "0                                         NaN   \n",
      "1                                     24136.0   \n",
      "2                                         NaN   \n",
      "3                                     26023.0   \n",
      "4                                         NaN   \n",
      "\n",
      "   Consommation brute électricité (MW) - RTE Statut - RTE  \\\n",
      "0                                      45715    Consolidé   \n",
      "1                                      46363    Consolidé   \n",
      "2                                      46988    Consolidé   \n",
      "3                                      46046    Consolidé   \n",
      "4                                      45622    Consolidé   \n",
      "\n",
      "   Consommation brute totale (MW)  \n",
      "0                             NaN  \n",
      "1                         70499.0  \n",
      "2                             NaN  \n",
      "3                         72069.0  \n",
      "4                             NaN  \n",
      "<class 'pandas.core.frame.DataFrame'>\n",
      "RangeIndex: 216192 entries, 0 to 216191\n",
      "Data columns (total 11 columns):\n",
      " #   Column                                        Non-Null Count   Dtype  \n",
      "---  ------                                        --------------   -----  \n",
      " 0   Date - Heure                                  216192 non-null  object \n",
      " 1   Date                                          216192 non-null  object \n",
      " 2   Heure                                         216192 non-null  object \n",
      " 3   Consommation brute gaz (MW PCS 0°C) - GRTgaz  108096 non-null  float64\n",
      " 4   Statut - GRTgaz                               108096 non-null  object \n",
      " 5   Consommation brute gaz (MW PCS 0°C) - Teréga  108093 non-null  float64\n",
      " 6   Statut - Teréga                               108096 non-null  object \n",
      " 7   Consommation brute gaz totale (MW PCS 0°C)    108092 non-null  float64\n",
      " 8   Consommation brute électricité (MW) - RTE     216192 non-null  int64  \n",
      " 9   Statut - RTE                                  216192 non-null  object \n",
      " 10  Consommation brute totale (MW)                108092 non-null  float64\n",
      "dtypes: float64(4), int64(1), object(6)\n",
      "memory usage: 18.1+ MB\n",
      "None\n",
      "       Consommation brute gaz (MW PCS 0°C) - GRTgaz  \\\n",
      "count                                 108096.000000   \n",
      "mean                                   49333.249574   \n",
      "std                                    26434.969167   \n",
      "min                                      719.000000   \n",
      "25%                                    26537.000000   \n",
      "50%                                    42275.500000   \n",
      "75%                                    68970.250000   \n",
      "max                                   296157.000000   \n",
      "\n",
      "       Consommation brute gaz (MW PCS 0°C) - Teréga  \\\n",
      "count                                 108093.000000   \n",
      "mean                                    3128.139195   \n",
      "std                                     2094.168803   \n",
      "min                                      153.000000   \n",
      "25%                                     1350.000000   \n",
      "50%                                     2454.000000   \n",
      "75%                                     4557.000000   \n",
      "max                                    13621.000000   \n",
      "\n",
      "       Consommation brute gaz totale (MW PCS 0°C)  \\\n",
      "count                               108092.000000   \n",
      "mean                                 52460.671696   \n",
      "std                                  28453.019058   \n",
      "min                                   1877.000000   \n",
      "25%                                  27908.000000   \n",
      "50%                                  44746.500000   \n",
      "75%                                  73599.250000   \n",
      "max                                 297703.000000   \n",
      "\n",
      "       Consommation brute électricité (MW) - RTE  \\\n",
      "count                              216192.000000   \n",
      "mean                                53484.576270   \n",
      "std                                 11855.939799   \n",
      "min                                 28738.000000   \n",
      "25%                                 44508.750000   \n",
      "50%                                 51781.000000   \n",
      "75%                                 61430.000000   \n",
      "max                                101866.000000   \n",
      "\n",
      "       Consommation brute totale (MW)  \n",
      "count                   108092.000000  \n",
      "mean                    105947.625847  \n",
      "std                      39439.383524  \n",
      "min                      42928.000000  \n",
      "25%                      73548.000000  \n",
      "50%                      94968.000000  \n",
      "75%                     134876.750000  \n",
      "max                     346267.000000  \n"
     ]
    }
   ],
   "source": [
    "#use sep=\";\" pour mieux organisé le fichier\n",
    "conso=pd.read_csv('./data/brut/consommation-quotidienne-brute.csv', sep=';')\n",
    "\n",
    "#verif des colonnes\n",
    "print(conso.head())\n",
    "print(conso.info())\n",
    "print(conso.describe())"
   ]
  },
  {
   "cell_type": "markdown",
   "metadata": {},
   "source": [
    "##### RENOMMER LES COLONNNES"
   ]
  },
  {
   "cell_type": "code",
   "execution_count": 45,
   "metadata": {},
   "outputs": [
    {
     "name": "stdout",
     "output_type": "stream",
     "text": [
      "Index(['Date - Heure', 'Date', 'Heure',\n",
      "       'Consommation brute gaz (MW PCS 0°C) - GRTgaz', 'Statut - GRTgaz',\n",
      "       'Consommation brute gaz (MW PCS 0°C) - Teréga', 'Statut - Teréga',\n",
      "       'Consommation brute gaz totale (MW PCS 0°C)',\n",
      "       'Consommation brute électricité (MW) - RTE', 'Statut - RTE',\n",
      "       'Consommation brute totale (MW)'],\n",
      "      dtype='object')\n"
     ]
    }
   ],
   "source": [
    "# conso.columns['Date','Heure','Consommation', 'source','Unité']\n",
    "# print(conso.head())\n",
    "print(conso.columns)\n"
   ]
  },
  {
   "cell_type": "code",
   "execution_count": 46,
   "metadata": {},
   "outputs": [
    {
     "name": "stdout",
     "output_type": "stream",
     "text": [
      "Index(['DateHeure', 'Date', 'Heure', 'ConsommationGazGRTgaz', 'StatutGRTgaz',\n",
      "       'ConsommationGazTerega', 'StatutTerega', 'ConsommationGazTotale',\n",
      "       'ConsommationElectricite', 'StatutRTE', 'ConsommationTotale'],\n",
      "      dtype='object')\n"
     ]
    }
   ],
   "source": [
    "#certains noms sont trop long\n",
    "# Renommer les colonnes clés pour simplifier leur manipulation\n",
    "conso.rename(columns={\n",
    "    'Date - Heure': 'DateHeure',\n",
    "    'Date': 'Date',\n",
    "    'Heure': 'Heure',\n",
    "    'Consommation brute gaz totale (MW PCS 0°C)': 'ConsommationGazTotale',\n",
    "    'Consommation brute électricité (MW) - RTE': 'ConsommationElectricite',\n",
    "    'Consommation brute totale (MW)': 'ConsommationTotale',\n",
    "    'Consommation brute gaz (MW PCS 0°C) - GRTgaz': 'ConsommationGazGRTgaz',\n",
    "    'Consommation brute gaz (MW PCS 0°C) - Teréga': 'ConsommationGazTerega',\n",
    "    'Statut - GRTgaz': 'StatutGRTgaz',\n",
    "    'Statut - Teréga': 'StatutTerega',\n",
    "    'Statut - RTE': 'StatutRTE'\n",
    "}, inplace=True)\n",
    "\n",
    "\n",
    "# Vérif des nouvelles colonnes\n",
    "print(conso.columns)\n"
   ]
  },
  {
   "cell_type": "markdown",
   "metadata": {},
   "source": [
    "##### Gerer les valeurs maquantes"
   ]
  },
  {
   "cell_type": "code",
   "execution_count": 47,
   "metadata": {},
   "outputs": [
    {
     "name": "stdout",
     "output_type": "stream",
     "text": [
      "<class 'pandas.core.frame.DataFrame'>\n",
      "Index: 108092 entries, 1 to 216191\n",
      "Data columns (total 11 columns):\n",
      " #   Column                   Non-Null Count   Dtype  \n",
      "---  ------                   --------------   -----  \n",
      " 0   DateHeure                108092 non-null  object \n",
      " 1   Date                     108092 non-null  object \n",
      " 2   Heure                    108092 non-null  object \n",
      " 3   ConsommationGazGRTgaz    108092 non-null  float64\n",
      " 4   StatutGRTgaz             108044 non-null  object \n",
      " 5   ConsommationGazTerega    108092 non-null  float64\n",
      " 6   StatutTerega             107996 non-null  object \n",
      " 7   ConsommationGazTotale    108092 non-null  float64\n",
      " 8   ConsommationElectricite  108092 non-null  int64  \n",
      " 9   StatutRTE                108092 non-null  object \n",
      " 10  ConsommationTotale       108092 non-null  float64\n",
      "dtypes: float64(4), int64(1), object(6)\n",
      "memory usage: 9.9+ MB\n",
      "None\n"
     ]
    }
   ],
   "source": [
    "# uniquement les lignes contenant des valeurs NaN  dles colonnes importantes\n",
    "conso = conso.dropna(subset=['ConsommationGazTotale', 'ConsommationElectricite', 'ConsommationTotale'])\n",
    "print(conso.info())  # Vérif que NaN ont été supprimés\n"
   ]
  },
  {
   "cell_type": "markdown",
   "metadata": {},
   "source": [
    "##### colonnes inutiles"
   ]
  },
  {
   "cell_type": "code",
   "execution_count": 48,
   "metadata": {},
   "outputs": [
    {
     "name": "stdout",
     "output_type": "stream",
     "text": [
      "<class 'pandas.core.frame.DataFrame'>\n",
      "Index: 108092 entries, 1 to 216191\n",
      "Data columns (total 8 columns):\n",
      " #   Column                   Non-Null Count   Dtype  \n",
      "---  ------                   --------------   -----  \n",
      " 0   DateHeure                108092 non-null  object \n",
      " 1   Date                     108092 non-null  object \n",
      " 2   Heure                    108092 non-null  object \n",
      " 3   ConsommationGazGRTgaz    108092 non-null  float64\n",
      " 4   ConsommationGazTerega    108092 non-null  float64\n",
      " 5   ConsommationGazTotale    108092 non-null  float64\n",
      " 6   ConsommationElectricite  108092 non-null  int64  \n",
      " 7   ConsommationTotale       108092 non-null  float64\n",
      "dtypes: float64(4), int64(1), object(3)\n",
      "memory usage: 7.4+ MB\n",
      "None\n"
     ]
    }
   ],
   "source": [
    "conso.drop(columns=['StatutGRTgaz', 'StatutTerega', 'StatutRTE'], inplace=True)\n",
    "print(conso.info())"
   ]
  },
  {
   "cell_type": "code",
   "execution_count": 49,
   "metadata": {},
   "outputs": [
    {
     "name": "stdout",
     "output_type": "stream",
     "text": [
      "DateHeure                  0\n",
      "Date                       0\n",
      "Heure                      0\n",
      "ConsommationGazGRTgaz      0\n",
      "ConsommationGazTerega      0\n",
      "ConsommationGazTotale      0\n",
      "ConsommationElectricite    0\n",
      "ConsommationTotale         0\n",
      "dtype: int64\n"
     ]
    }
   ],
   "source": [
    "#verif final\n",
    "print(conso.isnull().sum())"
   ]
  },
  {
   "cell_type": "markdown",
   "metadata": {},
   "source": [
    "SAUVEGARDE DES DATA CLEAN DANS UN NEW FILE"
   ]
  },
  {
   "cell_type": "code",
   "execution_count": 51,
   "metadata": {},
   "outputs": [
    {
     "name": "stdout",
     "output_type": "stream",
     "text": [
      "/workspaces/projet-iadata\n"
     ]
    },
    {
     "ename": "OSError",
     "evalue": "Cannot save file into a non-existent directory: '../data/prepared'",
     "output_type": "error",
     "traceback": [
      "\u001b[0;31m---------------------------------------------------------------------------\u001b[0m",
      "\u001b[0;31mOSError\u001b[0m                                   Traceback (most recent call last)",
      "Cell \u001b[0;32mIn[51], line 3\u001b[0m\n\u001b[1;32m      1\u001b[0m os\u001b[38;5;241m.\u001b[39mchdir(\u001b[38;5;124m'\u001b[39m\u001b[38;5;124m/workspaces/projet-iadata\u001b[39m\u001b[38;5;124m'\u001b[39m)  \u001b[38;5;66;03m# Change le répertoire vers la racine\u001b[39;00m\n\u001b[1;32m      2\u001b[0m \u001b[38;5;28mprint\u001b[39m(os\u001b[38;5;241m.\u001b[39mgetcwd())  \u001b[38;5;66;03m# Vérif\u001b[39;00m\n\u001b[0;32m----> 3\u001b[0m \u001b[43mconso\u001b[49m\u001b[38;5;241;43m.\u001b[39;49m\u001b[43mto_csv\u001b[49m\u001b[43m(\u001b[49m\u001b[38;5;124;43m'\u001b[39;49m\u001b[38;5;124;43m../data/prepared/conso_clean.csv\u001b[39;49m\u001b[38;5;124;43m'\u001b[39;49m\u001b[43m,\u001b[49m\u001b[43m \u001b[49m\u001b[43mindex\u001b[49m\u001b[38;5;241;43m=\u001b[39;49m\u001b[38;5;28;43;01mFalse\u001b[39;49;00m\u001b[43m)\u001b[49m \n",
      "File \u001b[0;32m~/.local/lib/python3.12/site-packages/pandas/util/_decorators.py:333\u001b[0m, in \u001b[0;36mdeprecate_nonkeyword_arguments.<locals>.decorate.<locals>.wrapper\u001b[0;34m(*args, **kwargs)\u001b[0m\n\u001b[1;32m    327\u001b[0m \u001b[38;5;28;01mif\u001b[39;00m \u001b[38;5;28mlen\u001b[39m(args) \u001b[38;5;241m>\u001b[39m num_allow_args:\n\u001b[1;32m    328\u001b[0m     warnings\u001b[38;5;241m.\u001b[39mwarn(\n\u001b[1;32m    329\u001b[0m         msg\u001b[38;5;241m.\u001b[39mformat(arguments\u001b[38;5;241m=\u001b[39m_format_argument_list(allow_args)),\n\u001b[1;32m    330\u001b[0m         \u001b[38;5;167;01mFutureWarning\u001b[39;00m,\n\u001b[1;32m    331\u001b[0m         stacklevel\u001b[38;5;241m=\u001b[39mfind_stack_level(),\n\u001b[1;32m    332\u001b[0m     )\n\u001b[0;32m--> 333\u001b[0m \u001b[38;5;28;01mreturn\u001b[39;00m \u001b[43mfunc\u001b[49m\u001b[43m(\u001b[49m\u001b[38;5;241;43m*\u001b[39;49m\u001b[43margs\u001b[49m\u001b[43m,\u001b[49m\u001b[43m \u001b[49m\u001b[38;5;241;43m*\u001b[39;49m\u001b[38;5;241;43m*\u001b[39;49m\u001b[43mkwargs\u001b[49m\u001b[43m)\u001b[49m\n",
      "File \u001b[0;32m~/.local/lib/python3.12/site-packages/pandas/core/generic.py:3967\u001b[0m, in \u001b[0;36mNDFrame.to_csv\u001b[0;34m(self, path_or_buf, sep, na_rep, float_format, columns, header, index, index_label, mode, encoding, compression, quoting, quotechar, lineterminator, chunksize, date_format, doublequote, escapechar, decimal, errors, storage_options)\u001b[0m\n\u001b[1;32m   3956\u001b[0m df \u001b[38;5;241m=\u001b[39m \u001b[38;5;28mself\u001b[39m \u001b[38;5;28;01mif\u001b[39;00m \u001b[38;5;28misinstance\u001b[39m(\u001b[38;5;28mself\u001b[39m, ABCDataFrame) \u001b[38;5;28;01melse\u001b[39;00m \u001b[38;5;28mself\u001b[39m\u001b[38;5;241m.\u001b[39mto_frame()\n\u001b[1;32m   3958\u001b[0m formatter \u001b[38;5;241m=\u001b[39m DataFrameFormatter(\n\u001b[1;32m   3959\u001b[0m     frame\u001b[38;5;241m=\u001b[39mdf,\n\u001b[1;32m   3960\u001b[0m     header\u001b[38;5;241m=\u001b[39mheader,\n\u001b[0;32m   (...)\u001b[0m\n\u001b[1;32m   3964\u001b[0m     decimal\u001b[38;5;241m=\u001b[39mdecimal,\n\u001b[1;32m   3965\u001b[0m )\n\u001b[0;32m-> 3967\u001b[0m \u001b[38;5;28;01mreturn\u001b[39;00m \u001b[43mDataFrameRenderer\u001b[49m\u001b[43m(\u001b[49m\u001b[43mformatter\u001b[49m\u001b[43m)\u001b[49m\u001b[38;5;241;43m.\u001b[39;49m\u001b[43mto_csv\u001b[49m\u001b[43m(\u001b[49m\n\u001b[1;32m   3968\u001b[0m \u001b[43m    \u001b[49m\u001b[43mpath_or_buf\u001b[49m\u001b[43m,\u001b[49m\n\u001b[1;32m   3969\u001b[0m \u001b[43m    \u001b[49m\u001b[43mlineterminator\u001b[49m\u001b[38;5;241;43m=\u001b[39;49m\u001b[43mlineterminator\u001b[49m\u001b[43m,\u001b[49m\n\u001b[1;32m   3970\u001b[0m \u001b[43m    \u001b[49m\u001b[43msep\u001b[49m\u001b[38;5;241;43m=\u001b[39;49m\u001b[43msep\u001b[49m\u001b[43m,\u001b[49m\n\u001b[1;32m   3971\u001b[0m \u001b[43m    \u001b[49m\u001b[43mencoding\u001b[49m\u001b[38;5;241;43m=\u001b[39;49m\u001b[43mencoding\u001b[49m\u001b[43m,\u001b[49m\n\u001b[1;32m   3972\u001b[0m \u001b[43m    \u001b[49m\u001b[43merrors\u001b[49m\u001b[38;5;241;43m=\u001b[39;49m\u001b[43merrors\u001b[49m\u001b[43m,\u001b[49m\n\u001b[1;32m   3973\u001b[0m \u001b[43m    \u001b[49m\u001b[43mcompression\u001b[49m\u001b[38;5;241;43m=\u001b[39;49m\u001b[43mcompression\u001b[49m\u001b[43m,\u001b[49m\n\u001b[1;32m   3974\u001b[0m \u001b[43m    \u001b[49m\u001b[43mquoting\u001b[49m\u001b[38;5;241;43m=\u001b[39;49m\u001b[43mquoting\u001b[49m\u001b[43m,\u001b[49m\n\u001b[1;32m   3975\u001b[0m \u001b[43m    \u001b[49m\u001b[43mcolumns\u001b[49m\u001b[38;5;241;43m=\u001b[39;49m\u001b[43mcolumns\u001b[49m\u001b[43m,\u001b[49m\n\u001b[1;32m   3976\u001b[0m \u001b[43m    \u001b[49m\u001b[43mindex_label\u001b[49m\u001b[38;5;241;43m=\u001b[39;49m\u001b[43mindex_label\u001b[49m\u001b[43m,\u001b[49m\n\u001b[1;32m   3977\u001b[0m \u001b[43m    \u001b[49m\u001b[43mmode\u001b[49m\u001b[38;5;241;43m=\u001b[39;49m\u001b[43mmode\u001b[49m\u001b[43m,\u001b[49m\n\u001b[1;32m   3978\u001b[0m \u001b[43m    \u001b[49m\u001b[43mchunksize\u001b[49m\u001b[38;5;241;43m=\u001b[39;49m\u001b[43mchunksize\u001b[49m\u001b[43m,\u001b[49m\n\u001b[1;32m   3979\u001b[0m \u001b[43m    \u001b[49m\u001b[43mquotechar\u001b[49m\u001b[38;5;241;43m=\u001b[39;49m\u001b[43mquotechar\u001b[49m\u001b[43m,\u001b[49m\n\u001b[1;32m   3980\u001b[0m \u001b[43m    \u001b[49m\u001b[43mdate_format\u001b[49m\u001b[38;5;241;43m=\u001b[39;49m\u001b[43mdate_format\u001b[49m\u001b[43m,\u001b[49m\n\u001b[1;32m   3981\u001b[0m \u001b[43m    \u001b[49m\u001b[43mdoublequote\u001b[49m\u001b[38;5;241;43m=\u001b[39;49m\u001b[43mdoublequote\u001b[49m\u001b[43m,\u001b[49m\n\u001b[1;32m   3982\u001b[0m \u001b[43m    \u001b[49m\u001b[43mescapechar\u001b[49m\u001b[38;5;241;43m=\u001b[39;49m\u001b[43mescapechar\u001b[49m\u001b[43m,\u001b[49m\n\u001b[1;32m   3983\u001b[0m \u001b[43m    \u001b[49m\u001b[43mstorage_options\u001b[49m\u001b[38;5;241;43m=\u001b[39;49m\u001b[43mstorage_options\u001b[49m\u001b[43m,\u001b[49m\n\u001b[1;32m   3984\u001b[0m \u001b[43m\u001b[49m\u001b[43m)\u001b[49m\n",
      "File \u001b[0;32m~/.local/lib/python3.12/site-packages/pandas/io/formats/format.py:1014\u001b[0m, in \u001b[0;36mDataFrameRenderer.to_csv\u001b[0;34m(self, path_or_buf, encoding, sep, columns, index_label, mode, compression, quoting, quotechar, lineterminator, chunksize, date_format, doublequote, escapechar, errors, storage_options)\u001b[0m\n\u001b[1;32m    993\u001b[0m     created_buffer \u001b[38;5;241m=\u001b[39m \u001b[38;5;28;01mFalse\u001b[39;00m\n\u001b[1;32m    995\u001b[0m csv_formatter \u001b[38;5;241m=\u001b[39m CSVFormatter(\n\u001b[1;32m    996\u001b[0m     path_or_buf\u001b[38;5;241m=\u001b[39mpath_or_buf,\n\u001b[1;32m    997\u001b[0m     lineterminator\u001b[38;5;241m=\u001b[39mlineterminator,\n\u001b[0;32m   (...)\u001b[0m\n\u001b[1;32m   1012\u001b[0m     formatter\u001b[38;5;241m=\u001b[39m\u001b[38;5;28mself\u001b[39m\u001b[38;5;241m.\u001b[39mfmt,\n\u001b[1;32m   1013\u001b[0m )\n\u001b[0;32m-> 1014\u001b[0m \u001b[43mcsv_formatter\u001b[49m\u001b[38;5;241;43m.\u001b[39;49m\u001b[43msave\u001b[49m\u001b[43m(\u001b[49m\u001b[43m)\u001b[49m\n\u001b[1;32m   1016\u001b[0m \u001b[38;5;28;01mif\u001b[39;00m created_buffer:\n\u001b[1;32m   1017\u001b[0m     \u001b[38;5;28;01massert\u001b[39;00m \u001b[38;5;28misinstance\u001b[39m(path_or_buf, StringIO)\n",
      "File \u001b[0;32m~/.local/lib/python3.12/site-packages/pandas/io/formats/csvs.py:251\u001b[0m, in \u001b[0;36mCSVFormatter.save\u001b[0;34m(self)\u001b[0m\n\u001b[1;32m    247\u001b[0m \u001b[38;5;250m\u001b[39m\u001b[38;5;124;03m\"\"\"\u001b[39;00m\n\u001b[1;32m    248\u001b[0m \u001b[38;5;124;03mCreate the writer & save.\u001b[39;00m\n\u001b[1;32m    249\u001b[0m \u001b[38;5;124;03m\"\"\"\u001b[39;00m\n\u001b[1;32m    250\u001b[0m \u001b[38;5;66;03m# apply compression and byte/text conversion\u001b[39;00m\n\u001b[0;32m--> 251\u001b[0m \u001b[38;5;28;01mwith\u001b[39;00m \u001b[43mget_handle\u001b[49m\u001b[43m(\u001b[49m\n\u001b[1;32m    252\u001b[0m \u001b[43m    \u001b[49m\u001b[38;5;28;43mself\u001b[39;49m\u001b[38;5;241;43m.\u001b[39;49m\u001b[43mfilepath_or_buffer\u001b[49m\u001b[43m,\u001b[49m\n\u001b[1;32m    253\u001b[0m \u001b[43m    \u001b[49m\u001b[38;5;28;43mself\u001b[39;49m\u001b[38;5;241;43m.\u001b[39;49m\u001b[43mmode\u001b[49m\u001b[43m,\u001b[49m\n\u001b[1;32m    254\u001b[0m \u001b[43m    \u001b[49m\u001b[43mencoding\u001b[49m\u001b[38;5;241;43m=\u001b[39;49m\u001b[38;5;28;43mself\u001b[39;49m\u001b[38;5;241;43m.\u001b[39;49m\u001b[43mencoding\u001b[49m\u001b[43m,\u001b[49m\n\u001b[1;32m    255\u001b[0m \u001b[43m    \u001b[49m\u001b[43merrors\u001b[49m\u001b[38;5;241;43m=\u001b[39;49m\u001b[38;5;28;43mself\u001b[39;49m\u001b[38;5;241;43m.\u001b[39;49m\u001b[43merrors\u001b[49m\u001b[43m,\u001b[49m\n\u001b[1;32m    256\u001b[0m \u001b[43m    \u001b[49m\u001b[43mcompression\u001b[49m\u001b[38;5;241;43m=\u001b[39;49m\u001b[38;5;28;43mself\u001b[39;49m\u001b[38;5;241;43m.\u001b[39;49m\u001b[43mcompression\u001b[49m\u001b[43m,\u001b[49m\n\u001b[1;32m    257\u001b[0m \u001b[43m    \u001b[49m\u001b[43mstorage_options\u001b[49m\u001b[38;5;241;43m=\u001b[39;49m\u001b[38;5;28;43mself\u001b[39;49m\u001b[38;5;241;43m.\u001b[39;49m\u001b[43mstorage_options\u001b[49m\u001b[43m,\u001b[49m\n\u001b[1;32m    258\u001b[0m \u001b[43m\u001b[49m\u001b[43m)\u001b[49m \u001b[38;5;28;01mas\u001b[39;00m handles:\n\u001b[1;32m    259\u001b[0m     \u001b[38;5;66;03m# Note: self.encoding is irrelevant here\u001b[39;00m\n\u001b[1;32m    260\u001b[0m     \u001b[38;5;28mself\u001b[39m\u001b[38;5;241m.\u001b[39mwriter \u001b[38;5;241m=\u001b[39m csvlib\u001b[38;5;241m.\u001b[39mwriter(\n\u001b[1;32m    261\u001b[0m         handles\u001b[38;5;241m.\u001b[39mhandle,\n\u001b[1;32m    262\u001b[0m         lineterminator\u001b[38;5;241m=\u001b[39m\u001b[38;5;28mself\u001b[39m\u001b[38;5;241m.\u001b[39mlineterminator,\n\u001b[0;32m   (...)\u001b[0m\n\u001b[1;32m    267\u001b[0m         quotechar\u001b[38;5;241m=\u001b[39m\u001b[38;5;28mself\u001b[39m\u001b[38;5;241m.\u001b[39mquotechar,\n\u001b[1;32m    268\u001b[0m     )\n\u001b[1;32m    270\u001b[0m     \u001b[38;5;28mself\u001b[39m\u001b[38;5;241m.\u001b[39m_save()\n",
      "File \u001b[0;32m~/.local/lib/python3.12/site-packages/pandas/io/common.py:749\u001b[0m, in \u001b[0;36mget_handle\u001b[0;34m(path_or_buf, mode, encoding, compression, memory_map, is_text, errors, storage_options)\u001b[0m\n\u001b[1;32m    747\u001b[0m \u001b[38;5;66;03m# Only for write methods\u001b[39;00m\n\u001b[1;32m    748\u001b[0m \u001b[38;5;28;01mif\u001b[39;00m \u001b[38;5;124m\"\u001b[39m\u001b[38;5;124mr\u001b[39m\u001b[38;5;124m\"\u001b[39m \u001b[38;5;129;01mnot\u001b[39;00m \u001b[38;5;129;01min\u001b[39;00m mode \u001b[38;5;129;01mand\u001b[39;00m is_path:\n\u001b[0;32m--> 749\u001b[0m     \u001b[43mcheck_parent_directory\u001b[49m\u001b[43m(\u001b[49m\u001b[38;5;28;43mstr\u001b[39;49m\u001b[43m(\u001b[49m\u001b[43mhandle\u001b[49m\u001b[43m)\u001b[49m\u001b[43m)\u001b[49m\n\u001b[1;32m    751\u001b[0m \u001b[38;5;28;01mif\u001b[39;00m compression:\n\u001b[1;32m    752\u001b[0m     \u001b[38;5;28;01mif\u001b[39;00m compression \u001b[38;5;241m!=\u001b[39m \u001b[38;5;124m\"\u001b[39m\u001b[38;5;124mzstd\u001b[39m\u001b[38;5;124m\"\u001b[39m:\n\u001b[1;32m    753\u001b[0m         \u001b[38;5;66;03m# compression libraries do not like an explicit text-mode\u001b[39;00m\n",
      "File \u001b[0;32m~/.local/lib/python3.12/site-packages/pandas/io/common.py:616\u001b[0m, in \u001b[0;36mcheck_parent_directory\u001b[0;34m(path)\u001b[0m\n\u001b[1;32m    614\u001b[0m parent \u001b[38;5;241m=\u001b[39m Path(path)\u001b[38;5;241m.\u001b[39mparent\n\u001b[1;32m    615\u001b[0m \u001b[38;5;28;01mif\u001b[39;00m \u001b[38;5;129;01mnot\u001b[39;00m parent\u001b[38;5;241m.\u001b[39mis_dir():\n\u001b[0;32m--> 616\u001b[0m     \u001b[38;5;28;01mraise\u001b[39;00m \u001b[38;5;167;01mOSError\u001b[39;00m(\u001b[38;5;124mrf\u001b[39m\u001b[38;5;124m\"\u001b[39m\u001b[38;5;124mCannot save file into a non-existent directory: \u001b[39m\u001b[38;5;124m'\u001b[39m\u001b[38;5;132;01m{\u001b[39;00mparent\u001b[38;5;132;01m}\u001b[39;00m\u001b[38;5;124m'\u001b[39m\u001b[38;5;124m\"\u001b[39m)\n",
      "\u001b[0;31mOSError\u001b[0m: Cannot save file into a non-existent directory: '../data/prepared'"
     ]
    }
   ],
   "source": [
    "os.chdir('/workspaces/projet-iadata')  # Change le répertoire vers la racine\n",
    "print(os.getcwd())  # Vérif\n",
    "conso.to_csv('../data/prepared/conso_clean.csv', index=False) "
   ]
  }
 ],
 "metadata": {
  "kernelspec": {
   "display_name": "Python 3",
   "language": "python",
   "name": "python3"
  },
  "language_info": {
   "codemirror_mode": {
    "name": "ipython",
    "version": 3
   },
   "file_extension": ".py",
   "mimetype": "text/x-python",
   "name": "python",
   "nbconvert_exporter": "python",
   "pygments_lexer": "ipython3",
   "version": "3.12.1"
  }
 },
 "nbformat": 4,
 "nbformat_minor": 2
}
